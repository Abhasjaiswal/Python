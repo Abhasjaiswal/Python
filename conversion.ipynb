{
 "cells": [
  {
   "cell_type": "code",
   "execution_count": 1,
   "metadata": {},
   "outputs": [
    {
     "name": "stdout",
     "output_type": "stream",
     "text": [
      "2030\n",
      "5\n"
     ]
    }
   ],
   "source": [
    "print(\"20\"+\"30\")\n",
    "A=int(\"2\") + int(\"3\")\n",
    "print(A)\n"
   ]
  },
  {
   "cell_type": "code",
   "execution_count": 2,
   "metadata": {},
   "outputs": [],
   "source": [
    "# int(x) - converts x to an integer\n",
    "# long(x) - conversts x to long integer\n",
    "# float(x) - converts x to float \n",
    "# str(x) - converts x to a string \n",
    "# tuple(x) - converts x to a tuple\n",
    "# list(x) - converts x to a list \n",
    "# set(x) - converts x to a set\n",
    "# ord(x) - converts a single character to its integer value \n",
    "# oct(x) - converts an integer to an octal string \n",
    "# hex(x) - converts an integer to a hexadecimal string \n",
    "# chr(x) - converts an integer to a character\n",
    "# unichr(x) - converts an integer to a unicode character\n",
    "# dict(x) - creates a dictionary if x forms a (key value) pair"
   ]
  }
 ],
 "metadata": {
  "kernelspec": {
   "display_name": "Python 3",
   "language": "python",
   "name": "python3"
  },
  "language_info": {
   "codemirror_mode": {
    "name": "ipython",
    "version": 3
   },
   "file_extension": ".py",
   "mimetype": "text/x-python",
   "name": "python",
   "nbconvert_exporter": "python",
   "pygments_lexer": "ipython3",
   "version": "3.11.7"
  }
 },
 "nbformat": 4,
 "nbformat_minor": 2
}
