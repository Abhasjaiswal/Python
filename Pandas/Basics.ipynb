{
 "cells": [
  {
   "cell_type": "code",
   "execution_count": 46,
   "metadata": {},
   "outputs": [],
   "source": [
    "import pandas as pd\n",
    "import numpy as np"
   ]
  },
  {
   "cell_type": "code",
   "execution_count": null,
   "metadata": {},
   "outputs": [],
   "source": []
  },
  {
   "cell_type": "code",
   "execution_count": 47,
   "metadata": {},
   "outputs": [],
   "source": [
    "df = pd.DataFrame()  # An Empty Dataframw"
   ]
  },
  {
   "cell_type": "code",
   "execution_count": 48,
   "metadata": {},
   "outputs": [
    {
     "data": {
      "text/html": [
       "<div>\n",
       "<style scoped>\n",
       "    .dataframe tbody tr th:only-of-type {\n",
       "        vertical-align: middle;\n",
       "    }\n",
       "\n",
       "    .dataframe tbody tr th {\n",
       "        vertical-align: top;\n",
       "    }\n",
       "\n",
       "    .dataframe thead th {\n",
       "        text-align: right;\n",
       "    }\n",
       "</style>\n",
       "<table border=\"1\" class=\"dataframe\">\n",
       "  <thead>\n",
       "    <tr style=\"text-align: right;\">\n",
       "      <th></th>\n",
       "    </tr>\n",
       "  </thead>\n",
       "  <tbody>\n",
       "  </tbody>\n",
       "</table>\n",
       "</div>"
      ],
      "text/plain": [
       "Empty DataFrame\n",
       "Columns: []\n",
       "Index: []"
      ]
     },
     "execution_count": 48,
     "metadata": {},
     "output_type": "execute_result"
    }
   ],
   "source": [
    "df"
   ]
  },
  {
   "cell_type": "code",
   "execution_count": 49,
   "metadata": {},
   "outputs": [
    {
     "data": {
      "text/html": [
       "<div>\n",
       "<style scoped>\n",
       "    .dataframe tbody tr th:only-of-type {\n",
       "        vertical-align: middle;\n",
       "    }\n",
       "\n",
       "    .dataframe tbody tr th {\n",
       "        vertical-align: top;\n",
       "    }\n",
       "\n",
       "    .dataframe thead th {\n",
       "        text-align: right;\n",
       "    }\n",
       "</style>\n",
       "<table border=\"1\" class=\"dataframe\">\n",
       "  <thead>\n",
       "    <tr style=\"text-align: right;\">\n",
       "      <th></th>\n",
       "      <th>0</th>\n",
       "    </tr>\n",
       "  </thead>\n",
       "  <tbody>\n",
       "    <tr>\n",
       "      <th>0</th>\n",
       "      <td>Abhas</td>\n",
       "    </tr>\n",
       "    <tr>\n",
       "      <th>1</th>\n",
       "      <td>Rohan</td>\n",
       "    </tr>\n",
       "    <tr>\n",
       "      <th>2</th>\n",
       "      <td>Ambar</td>\n",
       "    </tr>\n",
       "    <tr>\n",
       "      <th>3</th>\n",
       "      <td>Devarka</td>\n",
       "    </tr>\n",
       "    <tr>\n",
       "      <th>4</th>\n",
       "      <td>Gaurav</td>\n",
       "    </tr>\n",
       "  </tbody>\n",
       "</table>\n",
       "</div>"
      ],
      "text/plain": [
       "         0\n",
       "0    Abhas\n",
       "1    Rohan\n",
       "2    Ambar\n",
       "3  Devarka\n",
       "4   Gaurav"
      ]
     },
     "execution_count": 49,
     "metadata": {},
     "output_type": "execute_result"
    }
   ],
   "source": [
    "#DataFrame can be created using a single list or a list of lists. \n",
    "List=['Abhas','Rohan','Ambar','Devarka','Gaurav']  # list of strings\n",
    "df = pd.DataFrame(List)\n",
    "df\n"
   ]
  },
  {
   "cell_type": "code",
   "execution_count": 50,
   "metadata": {},
   "outputs": [],
   "source": [
    "# initialise data of lists.\n",
    "data = {'Name':['Tom', 'nick', 'krish', 'jack'], 'Age':[20, 21, 19, 18]}"
   ]
  },
  {
   "cell_type": "code",
   "execution_count": 51,
   "metadata": {},
   "outputs": [
    {
     "data": {
      "text/html": [
       "<div>\n",
       "<style scoped>\n",
       "    .dataframe tbody tr th:only-of-type {\n",
       "        vertical-align: middle;\n",
       "    }\n",
       "\n",
       "    .dataframe tbody tr th {\n",
       "        vertical-align: top;\n",
       "    }\n",
       "\n",
       "    .dataframe thead th {\n",
       "        text-align: right;\n",
       "    }\n",
       "</style>\n",
       "<table border=\"1\" class=\"dataframe\">\n",
       "  <thead>\n",
       "    <tr style=\"text-align: right;\">\n",
       "      <th></th>\n",
       "      <th>Name</th>\n",
       "      <th>Age</th>\n",
       "    </tr>\n",
       "  </thead>\n",
       "  <tbody>\n",
       "    <tr>\n",
       "      <th>0</th>\n",
       "      <td>Tom</td>\n",
       "      <td>20</td>\n",
       "    </tr>\n",
       "    <tr>\n",
       "      <th>1</th>\n",
       "      <td>nick</td>\n",
       "      <td>21</td>\n",
       "    </tr>\n",
       "    <tr>\n",
       "      <th>2</th>\n",
       "      <td>krish</td>\n",
       "      <td>19</td>\n",
       "    </tr>\n",
       "    <tr>\n",
       "      <th>3</th>\n",
       "      <td>jack</td>\n",
       "      <td>18</td>\n",
       "    </tr>\n",
       "  </tbody>\n",
       "</table>\n",
       "</div>"
      ],
      "text/plain": [
       "    Name  Age\n",
       "0    Tom   20\n",
       "1   nick   21\n",
       "2  krish   19\n",
       "3   jack   18"
      ]
     },
     "execution_count": 51,
     "metadata": {},
     "output_type": "execute_result"
    }
   ],
   "source": [
    "# Create DataFrame\n",
    "df = pd.DataFrame(data)\n",
    " \n",
    "# Print the output.\n",
    "df"
   ]
  },
  {
   "cell_type": "code",
   "execution_count": 52,
   "metadata": {},
   "outputs": [
    {
     "data": {
      "text/html": [
       "<div>\n",
       "<style scoped>\n",
       "    .dataframe tbody tr th:only-of-type {\n",
       "        vertical-align: middle;\n",
       "    }\n",
       "\n",
       "    .dataframe tbody tr th {\n",
       "        vertical-align: top;\n",
       "    }\n",
       "\n",
       "    .dataframe thead th {\n",
       "        text-align: right;\n",
       "    }\n",
       "</style>\n",
       "<table border=\"1\" class=\"dataframe\">\n",
       "  <thead>\n",
       "    <tr style=\"text-align: right;\">\n",
       "      <th></th>\n",
       "      <th>name</th>\n",
       "      <th>degree</th>\n",
       "      <th>score</th>\n",
       "    </tr>\n",
       "  </thead>\n",
       "  <tbody>\n",
       "    <tr>\n",
       "      <th>0</th>\n",
       "      <td>aparna</td>\n",
       "      <td>MBA</td>\n",
       "      <td>90</td>\n",
       "    </tr>\n",
       "    <tr>\n",
       "      <th>1</th>\n",
       "      <td>pankaj</td>\n",
       "      <td>BCA</td>\n",
       "      <td>40</td>\n",
       "    </tr>\n",
       "    <tr>\n",
       "      <th>2</th>\n",
       "      <td>sudhir</td>\n",
       "      <td>M.Tech</td>\n",
       "      <td>80</td>\n",
       "    </tr>\n",
       "    <tr>\n",
       "      <th>3</th>\n",
       "      <td>Geeku</td>\n",
       "      <td>MBA</td>\n",
       "      <td>98</td>\n",
       "    </tr>\n",
       "  </tbody>\n",
       "</table>\n",
       "</div>"
      ],
      "text/plain": [
       "     name  degree  score\n",
       "0  aparna     MBA     90\n",
       "1  pankaj     BCA     40\n",
       "2  sudhir  M.Tech     80\n",
       "3   Geeku     MBA     98"
      ]
     },
     "execution_count": 52,
     "metadata": {},
     "output_type": "execute_result"
    }
   ],
   "source": [
    "#Create pandas dataframe from lists using dictionary: \n",
    "# dictionary of lists\n",
    "dict = {'name':[\"aparna\", \"pankaj\", \"sudhir\", \"Geeku\"],\n",
    "        'degree': [\"MBA\", \"BCA\", \"M.Tech\", \"MBA\"],\n",
    "        'score':[90, 40, 80, 98]}\n",
    "df = pd.DataFrame(dict)\n",
    "df"
   ]
  },
  {
   "cell_type": "code",
   "execution_count": 53,
   "metadata": {},
   "outputs": [
    {
     "data": {
      "text/html": [
       "<div>\n",
       "<style scoped>\n",
       "    .dataframe tbody tr th:only-of-type {\n",
       "        vertical-align: middle;\n",
       "    }\n",
       "\n",
       "    .dataframe tbody tr th {\n",
       "        vertical-align: top;\n",
       "    }\n",
       "\n",
       "    .dataframe thead th {\n",
       "        text-align: right;\n",
       "    }\n",
       "</style>\n",
       "<table border=\"1\" class=\"dataframe\">\n",
       "  <thead>\n",
       "    <tr style=\"text-align: right;\">\n",
       "      <th></th>\n",
       "      <th>name</th>\n",
       "      <th>degree</th>\n",
       "      <th>score</th>\n",
       "    </tr>\n",
       "  </thead>\n",
       "  <tbody>\n",
       "    <tr>\n",
       "      <th>0</th>\n",
       "      <td>aparna</td>\n",
       "      <td>MBA</td>\n",
       "      <td>90</td>\n",
       "    </tr>\n",
       "    <tr>\n",
       "      <th>1</th>\n",
       "      <td>pankaj</td>\n",
       "      <td>BCA</td>\n",
       "      <td>40</td>\n",
       "    </tr>\n",
       "    <tr>\n",
       "      <th>2</th>\n",
       "      <td>sudhir</td>\n",
       "      <td>M.Tech</td>\n",
       "      <td>80</td>\n",
       "    </tr>\n",
       "    <tr>\n",
       "      <th>3</th>\n",
       "      <td>Geeku</td>\n",
       "      <td>MBA</td>\n",
       "      <td>98</td>\n",
       "    </tr>\n",
       "  </tbody>\n",
       "</table>\n",
       "</div>"
      ],
      "text/plain": [
       "     name  degree  score\n",
       "0  aparna     MBA     90\n",
       "1  pankaj     BCA     40\n",
       "2  sudhir  M.Tech     80\n",
       "3   Geeku     MBA     98"
      ]
     },
     "execution_count": 53,
     "metadata": {},
     "output_type": "execute_result"
    }
   ],
   "source": [
    "df.head()   #top 5 rows of data frame are returned"
   ]
  },
  {
   "cell_type": "code",
   "execution_count": 54,
   "metadata": {},
   "outputs": [
    {
     "data": {
      "text/html": [
       "<div>\n",
       "<style scoped>\n",
       "    .dataframe tbody tr th:only-of-type {\n",
       "        vertical-align: middle;\n",
       "    }\n",
       "\n",
       "    .dataframe tbody tr th {\n",
       "        vertical-align: top;\n",
       "    }\n",
       "\n",
       "    .dataframe thead th {\n",
       "        text-align: right;\n",
       "    }\n",
       "</style>\n",
       "<table border=\"1\" class=\"dataframe\">\n",
       "  <thead>\n",
       "    <tr style=\"text-align: right;\">\n",
       "      <th></th>\n",
       "      <th>name</th>\n",
       "      <th>degree</th>\n",
       "      <th>score</th>\n",
       "    </tr>\n",
       "  </thead>\n",
       "  <tbody>\n",
       "    <tr>\n",
       "      <th>0</th>\n",
       "      <td>aparna</td>\n",
       "      <td>MBA</td>\n",
       "      <td>90</td>\n",
       "    </tr>\n",
       "    <tr>\n",
       "      <th>1</th>\n",
       "      <td>pankaj</td>\n",
       "      <td>BCA</td>\n",
       "      <td>40</td>\n",
       "    </tr>\n",
       "    <tr>\n",
       "      <th>2</th>\n",
       "      <td>sudhir</td>\n",
       "      <td>M.Tech</td>\n",
       "      <td>80</td>\n",
       "    </tr>\n",
       "    <tr>\n",
       "      <th>3</th>\n",
       "      <td>Geeku</td>\n",
       "      <td>MBA</td>\n",
       "      <td>98</td>\n",
       "    </tr>\n",
       "  </tbody>\n",
       "</table>\n",
       "</div>"
      ],
      "text/plain": [
       "     name  degree  score\n",
       "0  aparna     MBA     90\n",
       "1  pankaj     BCA     40\n",
       "2  sudhir  M.Tech     80\n",
       "3   Geeku     MBA     98"
      ]
     },
     "execution_count": 54,
     "metadata": {},
     "output_type": "execute_result"
    }
   ],
   "source": [
    "df.head(9)   # we can also specify the number of series to be viewed"
   ]
  },
  {
   "cell_type": "code",
   "execution_count": 55,
   "metadata": {},
   "outputs": [
    {
     "data": {
      "text/html": [
       "<div>\n",
       "<style scoped>\n",
       "    .dataframe tbody tr th:only-of-type {\n",
       "        vertical-align: middle;\n",
       "    }\n",
       "\n",
       "    .dataframe tbody tr th {\n",
       "        vertical-align: top;\n",
       "    }\n",
       "\n",
       "    .dataframe thead th {\n",
       "        text-align: right;\n",
       "    }\n",
       "</style>\n",
       "<table border=\"1\" class=\"dataframe\">\n",
       "  <thead>\n",
       "    <tr style=\"text-align: right;\">\n",
       "      <th></th>\n",
       "      <th>name</th>\n",
       "      <th>degree</th>\n",
       "      <th>score</th>\n",
       "    </tr>\n",
       "  </thead>\n",
       "  <tbody>\n",
       "    <tr>\n",
       "      <th>0</th>\n",
       "      <td>aparna</td>\n",
       "      <td>MBA</td>\n",
       "      <td>90</td>\n",
       "    </tr>\n",
       "    <tr>\n",
       "      <th>1</th>\n",
       "      <td>pankaj</td>\n",
       "      <td>BCA</td>\n",
       "      <td>40</td>\n",
       "    </tr>\n",
       "    <tr>\n",
       "      <th>2</th>\n",
       "      <td>sudhir</td>\n",
       "      <td>M.Tech</td>\n",
       "      <td>80</td>\n",
       "    </tr>\n",
       "    <tr>\n",
       "      <th>3</th>\n",
       "      <td>Geeku</td>\n",
       "      <td>MBA</td>\n",
       "      <td>98</td>\n",
       "    </tr>\n",
       "  </tbody>\n",
       "</table>\n",
       "</div>"
      ],
      "text/plain": [
       "     name  degree  score\n",
       "0  aparna     MBA     90\n",
       "1  pankaj     BCA     40\n",
       "2  sudhir  M.Tech     80\n",
       "3   Geeku     MBA     98"
      ]
     },
     "execution_count": 55,
     "metadata": {},
     "output_type": "execute_result"
    }
   ],
   "source": [
    "df.tail()"
   ]
  },
  {
   "cell_type": "code",
   "execution_count": 56,
   "metadata": {},
   "outputs": [
    {
     "data": {
      "text/html": [
       "<div>\n",
       "<style scoped>\n",
       "    .dataframe tbody tr th:only-of-type {\n",
       "        vertical-align: middle;\n",
       "    }\n",
       "\n",
       "    .dataframe tbody tr th {\n",
       "        vertical-align: top;\n",
       "    }\n",
       "\n",
       "    .dataframe thead th {\n",
       "        text-align: right;\n",
       "    }\n",
       "</style>\n",
       "<table border=\"1\" class=\"dataframe\">\n",
       "  <thead>\n",
       "    <tr style=\"text-align: right;\">\n",
       "      <th></th>\n",
       "      <th>name</th>\n",
       "      <th>degree</th>\n",
       "      <th>score</th>\n",
       "    </tr>\n",
       "  </thead>\n",
       "  <tbody>\n",
       "    <tr>\n",
       "      <th>3</th>\n",
       "      <td>Geeku</td>\n",
       "      <td>MBA</td>\n",
       "      <td>98</td>\n",
       "    </tr>\n",
       "  </tbody>\n",
       "</table>\n",
       "</div>"
      ],
      "text/plain": [
       "    name degree  score\n",
       "3  Geeku    MBA     98"
      ]
     },
     "execution_count": 56,
     "metadata": {},
     "output_type": "execute_result"
    }
   ],
   "source": [
    "df.tail(1)"
   ]
  },
  {
   "cell_type": "code",
   "execution_count": 57,
   "metadata": {},
   "outputs": [
    {
     "data": {
      "text/html": [
       "<div>\n",
       "<style scoped>\n",
       "    .dataframe tbody tr th:only-of-type {\n",
       "        vertical-align: middle;\n",
       "    }\n",
       "\n",
       "    .dataframe tbody tr th {\n",
       "        vertical-align: top;\n",
       "    }\n",
       "\n",
       "    .dataframe thead th {\n",
       "        text-align: right;\n",
       "    }\n",
       "</style>\n",
       "<table border=\"1\" class=\"dataframe\">\n",
       "  <thead>\n",
       "    <tr style=\"text-align: right;\">\n",
       "      <th></th>\n",
       "      <th>score</th>\n",
       "    </tr>\n",
       "  </thead>\n",
       "  <tbody>\n",
       "    <tr>\n",
       "      <th>count</th>\n",
       "      <td>4.000000</td>\n",
       "    </tr>\n",
       "    <tr>\n",
       "      <th>mean</th>\n",
       "      <td>77.000000</td>\n",
       "    </tr>\n",
       "    <tr>\n",
       "      <th>std</th>\n",
       "      <td>25.742313</td>\n",
       "    </tr>\n",
       "    <tr>\n",
       "      <th>min</th>\n",
       "      <td>40.000000</td>\n",
       "    </tr>\n",
       "    <tr>\n",
       "      <th>25%</th>\n",
       "      <td>70.000000</td>\n",
       "    </tr>\n",
       "    <tr>\n",
       "      <th>50%</th>\n",
       "      <td>85.000000</td>\n",
       "    </tr>\n",
       "    <tr>\n",
       "      <th>75%</th>\n",
       "      <td>92.000000</td>\n",
       "    </tr>\n",
       "    <tr>\n",
       "      <th>max</th>\n",
       "      <td>98.000000</td>\n",
       "    </tr>\n",
       "  </tbody>\n",
       "</table>\n",
       "</div>"
      ],
      "text/plain": [
       "           score\n",
       "count   4.000000\n",
       "mean   77.000000\n",
       "std    25.742313\n",
       "min    40.000000\n",
       "25%    70.000000\n",
       "50%    85.000000\n",
       "75%    92.000000\n",
       "max    98.000000"
      ]
     },
     "execution_count": 57,
     "metadata": {},
     "output_type": "execute_result"
    }
   ],
   "source": [
    "df.describe()"
   ]
  },
  {
   "cell_type": "code",
   "execution_count": 58,
   "metadata": {},
   "outputs": [
    {
     "data": {
      "text/plain": [
       "Index(['name', 'degree', 'score'], dtype='object')"
      ]
     },
     "execution_count": 58,
     "metadata": {},
     "output_type": "execute_result"
    }
   ],
   "source": [
    "df.columns"
   ]
  },
  {
   "cell_type": "code",
   "execution_count": 59,
   "metadata": {},
   "outputs": [
    {
     "data": {
      "text/plain": [
       "0    1\n",
       "1    2\n",
       "2    3\n",
       "3    4\n",
       "4    5\n",
       "5    6\n",
       "6    7\n",
       "7    8\n",
       "dtype: int64"
      ]
     },
     "execution_count": 59,
     "metadata": {},
     "output_type": "execute_result"
    }
   ],
   "source": [
    "List2=[1,2,3,4,5,6,7,8]   \n",
    "df1=pd.Series(List2)    # Creating a Pandas Series with Python Lists\n",
    "df1"
   ]
  },
  {
   "cell_type": "code",
   "execution_count": 60,
   "metadata": {},
   "outputs": [
    {
     "data": {
      "text/plain": [
       "Series([], dtype: object)"
      ]
     },
     "execution_count": 60,
     "metadata": {},
     "output_type": "execute_result"
    }
   ],
   "source": [
    "# creating an empty series\n",
    "empty=pd.Series([])\n",
    "empty"
   ]
  },
  {
   "cell_type": "code",
   "execution_count": 61,
   "metadata": {},
   "outputs": [
    {
     "data": {
      "text/plain": [
       "10      Abhas Jaiswal\n",
       "11    Devarka Mullick\n",
       "12      Ambar Gairola\n",
       "13        Vivaan Jain\n",
       "dtype: object"
      ]
     },
     "execution_count": 61,
     "metadata": {},
     "output_type": "execute_result"
    }
   ],
   "source": [
    "a=pd.Series(['Abhas Jaiswal','Devarka Mullick','Ambar Gairola','Vivaan Jain'],index=[10,11,12,13,]) # we can provide index manually\n",
    "a"
   ]
  },
  {
   "cell_type": "code",
   "execution_count": 62,
   "metadata": {},
   "outputs": [
    {
     "data": {
      "text/plain": [
       "10      Abhas Jaiswal\n",
       "11    Devarka Mullick\n",
       "12      Ambar Gairola\n",
       "13        Vivaan Jain\n",
       "Name: Student Data, dtype: object"
      ]
     },
     "execution_count": 62,
     "metadata": {},
     "output_type": "execute_result"
    }
   ],
   "source": [
    "# we can provide a name to the series.\n",
    "a=pd.Series(['Abhas Jaiswal','Devarka Mullick','Ambar Gairola','Vivaan Jain'],index=[10,11,12,13,],name='Student Data')\n",
    "a\n"
   ]
  },
  {
   "cell_type": "code",
   "execution_count": 63,
   "metadata": {},
   "outputs": [
    {
     "data": {
      "text/plain": [
       "0    0.5\n",
       "dtype: float64"
      ]
     },
     "execution_count": 63,
     "metadata": {},
     "output_type": "execute_result"
    }
   ],
   "source": [
    "scaler_series=pd.Series(0.5)\n",
    "scaler_series"
   ]
  },
  {
   "cell_type": "code",
   "execution_count": 64,
   "metadata": {},
   "outputs": [
    {
     "data": {
      "text/plain": [
       "0    0.5\n",
       "1    0.5\n",
       "2    0.5\n",
       "dtype: float64"
      ]
     },
     "execution_count": 64,
     "metadata": {},
     "output_type": "execute_result"
    }
   ],
   "source": [
    "scaler_series=pd.Series(0.5,index=[0,1,2])\n",
    "scaler_series"
   ]
  },
  {
   "cell_type": "markdown",
   "metadata": {},
   "source": [
    "# PANDA SERIES WITH PYTHON DICTIONARY "
   ]
  },
  {
   "cell_type": "code",
   "execution_count": 65,
   "metadata": {},
   "outputs": [
    {
     "data": {
      "text/plain": [
       "Name                   Abhas Jaiswal\n",
       "Branch    B.Tech CSE in Data Science\n",
       "Name: Studnet_Data, dtype: object"
      ]
     },
     "execution_count": 65,
     "metadata": {},
     "output_type": "execute_result"
    }
   ],
   "source": [
    "dict_series=pd.Series({'Name':'Abhas Jaiswal','Branch':'B.Tech CSE in Data Science'},name='Studnet_Data')\n",
    "dict_series"
   ]
  },
  {
   "cell_type": "code",
   "execution_count": 66,
   "metadata": {},
   "outputs": [
    {
     "data": {
      "text/plain": [
       "'B.Tech CSE in Data Science'"
      ]
     },
     "execution_count": 66,
     "metadata": {},
     "output_type": "execute_result"
    }
   ],
   "source": [
    "max(dict_series)"
   ]
  },
  {
   "cell_type": "code",
   "execution_count": 67,
   "metadata": {},
   "outputs": [
    {
     "data": {
      "text/html": [
       "<div>\n",
       "<style scoped>\n",
       "    .dataframe tbody tr th:only-of-type {\n",
       "        vertical-align: middle;\n",
       "    }\n",
       "\n",
       "    .dataframe tbody tr th {\n",
       "        vertical-align: top;\n",
       "    }\n",
       "\n",
       "    .dataframe thead th {\n",
       "        text-align: right;\n",
       "    }\n",
       "</style>\n",
       "<table border=\"1\" class=\"dataframe\">\n",
       "  <thead>\n",
       "    <tr style=\"text-align: right;\">\n",
       "      <th></th>\n",
       "      <th>a</th>\n",
       "      <th>b</th>\n",
       "      <th>c</th>\n",
       "      <th>d</th>\n",
       "    </tr>\n",
       "  </thead>\n",
       "  <tbody>\n",
       "    <tr>\n",
       "      <th>0</th>\n",
       "      <td>5</td>\n",
       "      <td>6</td>\n",
       "      <td>9</td>\n",
       "      <td>10</td>\n",
       "    </tr>\n",
       "    <tr>\n",
       "      <th>1</th>\n",
       "      <td>1</td>\n",
       "      <td>2</td>\n",
       "      <td>3</td>\n",
       "      <td>0</td>\n",
       "    </tr>\n",
       "  </tbody>\n",
       "</table>\n",
       "</div>"
      ],
      "text/plain": [
       "   a  b  c   d\n",
       "0  5  6  9  10\n",
       "1  1  2  3   0"
      ]
     },
     "execution_count": 67,
     "metadata": {},
     "output_type": "execute_result"
    }
   ],
   "source": [
    "new=[{'a':5,'b':6,'c':9,'d':10},{'a':1,'b':2,'c':3,'d':0}]   # Dicitionary key represents columns\n",
    "df = pd.DataFrame(new)\n",
    "df"
   ]
  },
  {
   "cell_type": "code",
   "execution_count": 68,
   "metadata": {},
   "outputs": [
    {
     "data": {
      "text/html": [
       "<div>\n",
       "<style scoped>\n",
       "    .dataframe tbody tr th:only-of-type {\n",
       "        vertical-align: middle;\n",
       "    }\n",
       "\n",
       "    .dataframe tbody tr th {\n",
       "        vertical-align: top;\n",
       "    }\n",
       "\n",
       "    .dataframe thead th {\n",
       "        text-align: right;\n",
       "    }\n",
       "</style>\n",
       "<table border=\"1\" class=\"dataframe\">\n",
       "  <thead>\n",
       "    <tr style=\"text-align: right;\">\n",
       "      <th></th>\n",
       "      <th>RollNo.</th>\n",
       "      <th>Maths</th>\n",
       "      <th>Physics</th>\n",
       "    </tr>\n",
       "  </thead>\n",
       "  <tbody>\n",
       "    <tr>\n",
       "      <th>0</th>\n",
       "      <td>1</td>\n",
       "      <td>67</td>\n",
       "      <td>12</td>\n",
       "    </tr>\n",
       "    <tr>\n",
       "      <th>1</th>\n",
       "      <td>2</td>\n",
       "      <td>89</td>\n",
       "      <td>98</td>\n",
       "    </tr>\n",
       "    <tr>\n",
       "      <th>2</th>\n",
       "      <td>3</td>\n",
       "      <td>23</td>\n",
       "      <td>44</td>\n",
       "    </tr>\n",
       "    <tr>\n",
       "      <th>3</th>\n",
       "      <td>4</td>\n",
       "      <td>90</td>\n",
       "      <td>90</td>\n",
       "    </tr>\n",
       "    <tr>\n",
       "      <th>4</th>\n",
       "      <td>5</td>\n",
       "      <td>56</td>\n",
       "      <td>78</td>\n",
       "    </tr>\n",
       "  </tbody>\n",
       "</table>\n",
       "</div>"
      ],
      "text/plain": [
       "   RollNo.  Maths  Physics\n",
       "0        1     67       12\n",
       "1        2     89       98\n",
       "2        3     23       44\n",
       "3        4     90       90\n",
       "4        5     56       78"
      ]
     },
     "execution_count": 68,
     "metadata": {},
     "output_type": "execute_result"
    }
   ],
   "source": [
    "b = {'RollNo.':pd.Series([1,2,3,4,5]), \n",
    "    'Maths':pd.Series([67,89,23,90,56]), \n",
    "    'Physics':pd.Series([12,98,44,90,78])}      \n",
    "\n",
    "df = pd.DataFrame(b)\n",
    "df"
   ]
  },
  {
   "cell_type": "markdown",
   "metadata": {},
   "source": [
    "# Reading CSV FILE"
   ]
  },
  {
   "cell_type": "code",
   "execution_count": 69,
   "metadata": {},
   "outputs": [],
   "source": [
    "csv_file=(\"DailyDelhiClimateTrain.csv\")    # Loading Dataframe\n",
    "df=pd.read_csv(csv_file)\n"
   ]
  },
  {
   "cell_type": "code",
   "execution_count": 70,
   "metadata": {},
   "outputs": [
    {
     "data": {
      "text/plain": [
       "Index(['date', 'meantemp', 'humidity', 'wind_speed', 'meanpressure'], dtype='object')"
      ]
     },
     "execution_count": 70,
     "metadata": {},
     "output_type": "execute_result"
    }
   ],
   "source": [
    "df.columns    # displays the columns present in the dataframe"
   ]
  },
  {
   "cell_type": "code",
   "execution_count": 71,
   "metadata": {},
   "outputs": [
    {
     "data": {
      "text/plain": [
       "(1462, 5)"
      ]
     },
     "execution_count": 71,
     "metadata": {},
     "output_type": "execute_result"
    }
   ],
   "source": [
    "df.shape   # (1462,5)=(rows,columns)"
   ]
  },
  {
   "cell_type": "code",
   "execution_count": 72,
   "metadata": {},
   "outputs": [
    {
     "data": {
      "text/plain": [
       "7310"
      ]
     },
     "execution_count": 72,
     "metadata": {},
     "output_type": "execute_result"
    }
   ],
   "source": [
    "df.size   #  It gives the number of cells present in the dataframe"
   ]
  },
  {
   "cell_type": "code",
   "execution_count": 73,
   "metadata": {},
   "outputs": [
    {
     "data": {
      "text/html": [
       "<div>\n",
       "<style scoped>\n",
       "    .dataframe tbody tr th:only-of-type {\n",
       "        vertical-align: middle;\n",
       "    }\n",
       "\n",
       "    .dataframe tbody tr th {\n",
       "        vertical-align: top;\n",
       "    }\n",
       "\n",
       "    .dataframe thead th {\n",
       "        text-align: right;\n",
       "    }\n",
       "</style>\n",
       "<table border=\"1\" class=\"dataframe\">\n",
       "  <thead>\n",
       "    <tr style=\"text-align: right;\">\n",
       "      <th></th>\n",
       "      <th>date</th>\n",
       "      <th>meantemp</th>\n",
       "      <th>humidity</th>\n",
       "      <th>wind_speed</th>\n",
       "      <th>meanpressure</th>\n",
       "    </tr>\n",
       "  </thead>\n",
       "  <tbody>\n",
       "    <tr>\n",
       "      <th>0</th>\n",
       "      <td>2013-01-01</td>\n",
       "      <td>10.000000</td>\n",
       "      <td>84.500000</td>\n",
       "      <td>0.000000</td>\n",
       "      <td>1015.666667</td>\n",
       "    </tr>\n",
       "    <tr>\n",
       "      <th>1</th>\n",
       "      <td>2013-01-02</td>\n",
       "      <td>7.400000</td>\n",
       "      <td>92.000000</td>\n",
       "      <td>2.980000</td>\n",
       "      <td>1017.800000</td>\n",
       "    </tr>\n",
       "    <tr>\n",
       "      <th>2</th>\n",
       "      <td>2013-01-03</td>\n",
       "      <td>7.166667</td>\n",
       "      <td>87.000000</td>\n",
       "      <td>4.633333</td>\n",
       "      <td>1018.666667</td>\n",
       "    </tr>\n",
       "    <tr>\n",
       "      <th>3</th>\n",
       "      <td>2013-01-04</td>\n",
       "      <td>8.666667</td>\n",
       "      <td>71.333333</td>\n",
       "      <td>1.233333</td>\n",
       "      <td>1017.166667</td>\n",
       "    </tr>\n",
       "    <tr>\n",
       "      <th>4</th>\n",
       "      <td>2013-01-05</td>\n",
       "      <td>6.000000</td>\n",
       "      <td>86.833333</td>\n",
       "      <td>3.700000</td>\n",
       "      <td>1016.500000</td>\n",
       "    </tr>\n",
       "  </tbody>\n",
       "</table>\n",
       "</div>"
      ],
      "text/plain": [
       "         date   meantemp   humidity  wind_speed  meanpressure\n",
       "0  2013-01-01  10.000000  84.500000    0.000000   1015.666667\n",
       "1  2013-01-02   7.400000  92.000000    2.980000   1017.800000\n",
       "2  2013-01-03   7.166667  87.000000    4.633333   1018.666667\n",
       "3  2013-01-04   8.666667  71.333333    1.233333   1017.166667\n",
       "4  2013-01-05   6.000000  86.833333    3.700000   1016.500000"
      ]
     },
     "execution_count": 73,
     "metadata": {},
     "output_type": "execute_result"
    }
   ],
   "source": [
    "df.head()"
   ]
  },
  {
   "cell_type": "code",
   "execution_count": 77,
   "metadata": {},
   "outputs": [
    {
     "data": {
      "text/html": [
       "<div>\n",
       "<style scoped>\n",
       "    .dataframe tbody tr th:only-of-type {\n",
       "        vertical-align: middle;\n",
       "    }\n",
       "\n",
       "    .dataframe tbody tr th {\n",
       "        vertical-align: top;\n",
       "    }\n",
       "\n",
       "    .dataframe thead th {\n",
       "        text-align: right;\n",
       "    }\n",
       "</style>\n",
       "<table border=\"1\" class=\"dataframe\">\n",
       "  <thead>\n",
       "    <tr style=\"text-align: right;\">\n",
       "      <th></th>\n",
       "      <th>meantemp</th>\n",
       "      <th>humidity</th>\n",
       "      <th>wind_speed</th>\n",
       "      <th>meanpressure</th>\n",
       "    </tr>\n",
       "  </thead>\n",
       "  <tbody>\n",
       "    <tr>\n",
       "      <th>count</th>\n",
       "      <td>1462.000000</td>\n",
       "      <td>1462.000000</td>\n",
       "      <td>1462.000000</td>\n",
       "      <td>1462.000000</td>\n",
       "    </tr>\n",
       "    <tr>\n",
       "      <th>mean</th>\n",
       "      <td>25.495521</td>\n",
       "      <td>60.771702</td>\n",
       "      <td>6.802209</td>\n",
       "      <td>1011.104548</td>\n",
       "    </tr>\n",
       "    <tr>\n",
       "      <th>std</th>\n",
       "      <td>7.348103</td>\n",
       "      <td>16.769652</td>\n",
       "      <td>4.561602</td>\n",
       "      <td>180.231668</td>\n",
       "    </tr>\n",
       "    <tr>\n",
       "      <th>min</th>\n",
       "      <td>6.000000</td>\n",
       "      <td>13.428571</td>\n",
       "      <td>0.000000</td>\n",
       "      <td>-3.041667</td>\n",
       "    </tr>\n",
       "    <tr>\n",
       "      <th>25%</th>\n",
       "      <td>18.857143</td>\n",
       "      <td>50.375000</td>\n",
       "      <td>3.475000</td>\n",
       "      <td>1001.580357</td>\n",
       "    </tr>\n",
       "    <tr>\n",
       "      <th>50%</th>\n",
       "      <td>27.714286</td>\n",
       "      <td>62.625000</td>\n",
       "      <td>6.221667</td>\n",
       "      <td>1008.563492</td>\n",
       "    </tr>\n",
       "    <tr>\n",
       "      <th>75%</th>\n",
       "      <td>31.305804</td>\n",
       "      <td>72.218750</td>\n",
       "      <td>9.238235</td>\n",
       "      <td>1014.944901</td>\n",
       "    </tr>\n",
       "    <tr>\n",
       "      <th>max</th>\n",
       "      <td>38.714286</td>\n",
       "      <td>100.000000</td>\n",
       "      <td>42.220000</td>\n",
       "      <td>7679.333333</td>\n",
       "    </tr>\n",
       "  </tbody>\n",
       "</table>\n",
       "</div>"
      ],
      "text/plain": [
       "          meantemp     humidity   wind_speed  meanpressure\n",
       "count  1462.000000  1462.000000  1462.000000   1462.000000\n",
       "mean     25.495521    60.771702     6.802209   1011.104548\n",
       "std       7.348103    16.769652     4.561602    180.231668\n",
       "min       6.000000    13.428571     0.000000     -3.041667\n",
       "25%      18.857143    50.375000     3.475000   1001.580357\n",
       "50%      27.714286    62.625000     6.221667   1008.563492\n",
       "75%      31.305804    72.218750     9.238235   1014.944901\n",
       "max      38.714286   100.000000    42.220000   7679.333333"
      ]
     },
     "execution_count": 77,
     "metadata": {},
     "output_type": "execute_result"
    }
   ],
   "source": [
    "df.describe()"
   ]
  },
  {
   "cell_type": "markdown",
   "metadata": {},
   "source": [
    "count: Total Number of Non-Empty values\n",
    "mean: Mean of the column values\n",
    "std: Standard Deviation of the column values\n",
    "min: Minimum value from the column\n",
    "25%: 25 percentile\n",
    "50%: 50 percentile\n",
    "75%: 75 percentile\n",
    "max: Maximum value from the column\n"
   ]
  },
  {
   "cell_type": "code",
   "execution_count": 78,
   "metadata": {},
   "outputs": [
    {
     "name": "stdout",
     "output_type": "stream",
     "text": [
      "<class 'pandas.core.frame.DataFrame'>\n",
      "RangeIndex: 1462 entries, 0 to 1461\n",
      "Data columns (total 5 columns):\n",
      " #   Column        Non-Null Count  Dtype  \n",
      "---  ------        --------------  -----  \n",
      " 0   date          1462 non-null   object \n",
      " 1   meantemp      1462 non-null   float64\n",
      " 2   humidity      1462 non-null   float64\n",
      " 3   wind_speed    1462 non-null   float64\n",
      " 4   meanpressure  1462 non-null   float64\n",
      "dtypes: float64(4), object(1)\n",
      "memory usage: 57.2+ KB\n"
     ]
    }
   ],
   "source": [
    "df.info()"
   ]
  },
  {
   "cell_type": "code",
   "execution_count": 79,
   "metadata": {},
   "outputs": [
    {
     "data": {
      "text/html": [
       "<div>\n",
       "<style scoped>\n",
       "    .dataframe tbody tr th:only-of-type {\n",
       "        vertical-align: middle;\n",
       "    }\n",
       "\n",
       "    .dataframe tbody tr th {\n",
       "        vertical-align: top;\n",
       "    }\n",
       "\n",
       "    .dataframe thead th {\n",
       "        text-align: right;\n",
       "    }\n",
       "</style>\n",
       "<table border=\"1\" class=\"dataframe\">\n",
       "  <thead>\n",
       "    <tr style=\"text-align: right;\">\n",
       "      <th></th>\n",
       "      <th>Rank</th>\n",
       "      <th>Restaurant</th>\n",
       "      <th>Content</th>\n",
       "      <th>Sales</th>\n",
       "      <th>YOY_Sales</th>\n",
       "      <th>Units</th>\n",
       "      <th>YOY_Units</th>\n",
       "      <th>Headquarters</th>\n",
       "      <th>Segment_Category</th>\n",
       "    </tr>\n",
       "  </thead>\n",
       "  <tbody>\n",
       "    <tr>\n",
       "      <th>0</th>\n",
       "      <td>1</td>\n",
       "      <td>McDonald's</td>\n",
       "      <td>NaN</td>\n",
       "      <td>40412</td>\n",
       "      <td>4.9%</td>\n",
       "      <td>13846</td>\n",
       "      <td>-0.5%</td>\n",
       "      <td>NaN</td>\n",
       "      <td>Quick Service &amp; Burger</td>\n",
       "    </tr>\n",
       "    <tr>\n",
       "      <th>1</th>\n",
       "      <td>2</td>\n",
       "      <td>Starbucks</td>\n",
       "      <td>NaN</td>\n",
       "      <td>21380</td>\n",
       "      <td>8.6%</td>\n",
       "      <td>15049</td>\n",
       "      <td>3.0%</td>\n",
       "      <td>NaN</td>\n",
       "      <td>Quick Service &amp; Coffee Cafe</td>\n",
       "    </tr>\n",
       "    <tr>\n",
       "      <th>2</th>\n",
       "      <td>3</td>\n",
       "      <td>Chick-fil-A</td>\n",
       "      <td>While Popeyes got a lot of the chicken buzz in...</td>\n",
       "      <td>11320</td>\n",
       "      <td>13.0%</td>\n",
       "      <td>2470</td>\n",
       "      <td>5.0%</td>\n",
       "      <td>NaN</td>\n",
       "      <td>Quick Service &amp; Chicken</td>\n",
       "    </tr>\n",
       "    <tr>\n",
       "      <th>3</th>\n",
       "      <td>4</td>\n",
       "      <td>Taco Bell</td>\n",
       "      <td>NaN</td>\n",
       "      <td>11293</td>\n",
       "      <td>9.0%</td>\n",
       "      <td>6766</td>\n",
       "      <td>2.7%</td>\n",
       "      <td>NaN</td>\n",
       "      <td>Quick Service &amp; Mexican</td>\n",
       "    </tr>\n",
       "    <tr>\n",
       "      <th>4</th>\n",
       "      <td>5</td>\n",
       "      <td>Burger King</td>\n",
       "      <td>NaN</td>\n",
       "      <td>10204</td>\n",
       "      <td>2.7%</td>\n",
       "      <td>7346</td>\n",
       "      <td>0.2%</td>\n",
       "      <td>NaN</td>\n",
       "      <td>Quick Service &amp; Burger</td>\n",
       "    </tr>\n",
       "    <tr>\n",
       "      <th>...</th>\n",
       "      <td>...</td>\n",
       "      <td>...</td>\n",
       "      <td>...</td>\n",
       "      <td>...</td>\n",
       "      <td>...</td>\n",
       "      <td>...</td>\n",
       "      <td>...</td>\n",
       "      <td>...</td>\n",
       "      <td>...</td>\n",
       "    </tr>\n",
       "    <tr>\n",
       "      <th>245</th>\n",
       "      <td>246</td>\n",
       "      <td>Rainforest Cafe</td>\n",
       "      <td>NaN</td>\n",
       "      <td>129</td>\n",
       "      <td>-10.4%</td>\n",
       "      <td>18</td>\n",
       "      <td>-5.3%</td>\n",
       "      <td>NaN</td>\n",
       "      <td>Varied Menu</td>\n",
       "    </tr>\n",
       "    <tr>\n",
       "      <th>246</th>\n",
       "      <td>247</td>\n",
       "      <td>PDQ</td>\n",
       "      <td>NaN</td>\n",
       "      <td>127</td>\n",
       "      <td>-5.5%</td>\n",
       "      <td>56</td>\n",
       "      <td>-11.1%</td>\n",
       "      <td>NaN</td>\n",
       "      <td>Chicken</td>\n",
       "    </tr>\n",
       "    <tr>\n",
       "      <th>247</th>\n",
       "      <td>248</td>\n",
       "      <td>Lupe Tortilla</td>\n",
       "      <td>NaN</td>\n",
       "      <td>127</td>\n",
       "      <td>12.1%</td>\n",
       "      <td>25</td>\n",
       "      <td>8.7%</td>\n",
       "      <td>NaN</td>\n",
       "      <td>Mexican</td>\n",
       "    </tr>\n",
       "    <tr>\n",
       "      <th>248</th>\n",
       "      <td>249</td>\n",
       "      <td>Cook-Out Restaurant</td>\n",
       "      <td>NaN</td>\n",
       "      <td>126</td>\n",
       "      <td>10.1%</td>\n",
       "      <td>270</td>\n",
       "      <td>7.1%</td>\n",
       "      <td>NaN</td>\n",
       "      <td>Burger</td>\n",
       "    </tr>\n",
       "    <tr>\n",
       "      <th>249</th>\n",
       "      <td>250</td>\n",
       "      <td>Jollibee</td>\n",
       "      <td>NaN</td>\n",
       "      <td>126</td>\n",
       "      <td>15.2%</td>\n",
       "      <td>40</td>\n",
       "      <td>11.1%</td>\n",
       "      <td>NaN</td>\n",
       "      <td>Chicken</td>\n",
       "    </tr>\n",
       "  </tbody>\n",
       "</table>\n",
       "<p>250 rows × 9 columns</p>\n",
       "</div>"
      ],
      "text/plain": [
       "     Rank           Restaurant  \\\n",
       "0       1           McDonald's   \n",
       "1       2            Starbucks   \n",
       "2       3          Chick-fil-A   \n",
       "3       4            Taco Bell   \n",
       "4       5          Burger King   \n",
       "..    ...                  ...   \n",
       "245   246      Rainforest Cafe   \n",
       "246   247                  PDQ   \n",
       "247   248        Lupe Tortilla   \n",
       "248   249  Cook-Out Restaurant   \n",
       "249   250             Jollibee   \n",
       "\n",
       "                                               Content  Sales YOY_Sales  \\\n",
       "0                                                  NaN  40412      4.9%   \n",
       "1                                                  NaN  21380      8.6%   \n",
       "2    While Popeyes got a lot of the chicken buzz in...  11320     13.0%   \n",
       "3                                                  NaN  11293      9.0%   \n",
       "4                                                  NaN  10204      2.7%   \n",
       "..                                                 ...    ...       ...   \n",
       "245                                                NaN    129    -10.4%   \n",
       "246                                                NaN    127     -5.5%   \n",
       "247                                                NaN    127     12.1%   \n",
       "248                                                NaN    126     10.1%   \n",
       "249                                                NaN    126     15.2%   \n",
       "\n",
       "     Units YOY_Units Headquarters             Segment_Category  \n",
       "0    13846     -0.5%          NaN       Quick Service & Burger  \n",
       "1    15049      3.0%          NaN  Quick Service & Coffee Cafe  \n",
       "2     2470      5.0%          NaN      Quick Service & Chicken  \n",
       "3     6766      2.7%          NaN      Quick Service & Mexican  \n",
       "4     7346      0.2%          NaN       Quick Service & Burger  \n",
       "..     ...       ...          ...                          ...  \n",
       "245     18     -5.3%          NaN                  Varied Menu  \n",
       "246     56    -11.1%          NaN                      Chicken  \n",
       "247     25      8.7%          NaN                      Mexican  \n",
       "248    270      7.1%          NaN                       Burger  \n",
       "249     40     11.1%          NaN                      Chicken  \n",
       "\n",
       "[250 rows x 9 columns]"
      ]
     },
     "execution_count": 79,
     "metadata": {},
     "output_type": "execute_result"
    }
   ],
   "source": [
    "csv_file2='Restaurant.csv'\n",
    "df2=pd.read_csv('Restaurant.csv')\n",
    "df2"
   ]
  },
  {
   "cell_type": "code",
   "execution_count": 84,
   "metadata": {},
   "outputs": [
    {
     "data": {
      "text/plain": [
       "(250, 9)"
      ]
     },
     "execution_count": 84,
     "metadata": {},
     "output_type": "execute_result"
    }
   ],
   "source": [
    "df2.shape"
   ]
  },
  {
   "cell_type": "code",
   "execution_count": 86,
   "metadata": {},
   "outputs": [
    {
     "data": {
      "text/plain": [
       "2250"
      ]
     },
     "execution_count": 86,
     "metadata": {},
     "output_type": "execute_result"
    }
   ],
   "source": [
    "df2.size"
   ]
  },
  {
   "cell_type": "code",
   "execution_count": 85,
   "metadata": {},
   "outputs": [
    {
     "name": "stdout",
     "output_type": "stream",
     "text": [
      "<class 'pandas.core.frame.DataFrame'>\n",
      "RangeIndex: 250 entries, 0 to 249\n",
      "Data columns (total 9 columns):\n",
      " #   Column            Non-Null Count  Dtype \n",
      "---  ------            --------------  ----- \n",
      " 0   Rank              250 non-null    int64 \n",
      " 1   Restaurant        250 non-null    object\n",
      " 2   Content           33 non-null     object\n",
      " 3   Sales             250 non-null    int64 \n",
      " 4   YOY_Sales         250 non-null    object\n",
      " 5   Units             250 non-null    int64 \n",
      " 6   YOY_Units         250 non-null    object\n",
      " 7   Headquarters      52 non-null     object\n",
      " 8   Segment_Category  250 non-null    object\n",
      "dtypes: int64(3), object(6)\n",
      "memory usage: 17.7+ KB\n"
     ]
    }
   ],
   "source": [
    "df2.info()"
   ]
  },
  {
   "cell_type": "code",
   "execution_count": 87,
   "metadata": {},
   "outputs": [
    {
     "data": {
      "text/html": [
       "<div>\n",
       "<style scoped>\n",
       "    .dataframe tbody tr th:only-of-type {\n",
       "        vertical-align: middle;\n",
       "    }\n",
       "\n",
       "    .dataframe tbody tr th {\n",
       "        vertical-align: top;\n",
       "    }\n",
       "\n",
       "    .dataframe thead th {\n",
       "        text-align: right;\n",
       "    }\n",
       "</style>\n",
       "<table border=\"1\" class=\"dataframe\">\n",
       "  <thead>\n",
       "    <tr style=\"text-align: right;\">\n",
       "      <th></th>\n",
       "      <th>Rank</th>\n",
       "      <th>Restaurant</th>\n",
       "      <th>Content</th>\n",
       "      <th>Sales</th>\n",
       "      <th>YOY_Sales</th>\n",
       "      <th>Units</th>\n",
       "      <th>YOY_Units</th>\n",
       "      <th>Headquarters</th>\n",
       "      <th>Segment_Category</th>\n",
       "    </tr>\n",
       "  </thead>\n",
       "  <tbody>\n",
       "    <tr>\n",
       "      <th>0</th>\n",
       "      <td>1</td>\n",
       "      <td>McDonald's</td>\n",
       "      <td>NaN</td>\n",
       "      <td>40412</td>\n",
       "      <td>4.9%</td>\n",
       "      <td>13846</td>\n",
       "      <td>-0.5%</td>\n",
       "      <td>NaN</td>\n",
       "      <td>Quick Service &amp; Burger</td>\n",
       "    </tr>\n",
       "    <tr>\n",
       "      <th>1</th>\n",
       "      <td>2</td>\n",
       "      <td>Starbucks</td>\n",
       "      <td>NaN</td>\n",
       "      <td>21380</td>\n",
       "      <td>8.6%</td>\n",
       "      <td>15049</td>\n",
       "      <td>3.0%</td>\n",
       "      <td>NaN</td>\n",
       "      <td>Quick Service &amp; Coffee Cafe</td>\n",
       "    </tr>\n",
       "    <tr>\n",
       "      <th>2</th>\n",
       "      <td>3</td>\n",
       "      <td>Chick-fil-A</td>\n",
       "      <td>While Popeyes got a lot of the chicken buzz in...</td>\n",
       "      <td>11320</td>\n",
       "      <td>13.0%</td>\n",
       "      <td>2470</td>\n",
       "      <td>5.0%</td>\n",
       "      <td>NaN</td>\n",
       "      <td>Quick Service &amp; Chicken</td>\n",
       "    </tr>\n",
       "    <tr>\n",
       "      <th>3</th>\n",
       "      <td>4</td>\n",
       "      <td>Taco Bell</td>\n",
       "      <td>NaN</td>\n",
       "      <td>11293</td>\n",
       "      <td>9.0%</td>\n",
       "      <td>6766</td>\n",
       "      <td>2.7%</td>\n",
       "      <td>NaN</td>\n",
       "      <td>Quick Service &amp; Mexican</td>\n",
       "    </tr>\n",
       "    <tr>\n",
       "      <th>4</th>\n",
       "      <td>5</td>\n",
       "      <td>Burger King</td>\n",
       "      <td>NaN</td>\n",
       "      <td>10204</td>\n",
       "      <td>2.7%</td>\n",
       "      <td>7346</td>\n",
       "      <td>0.2%</td>\n",
       "      <td>NaN</td>\n",
       "      <td>Quick Service &amp; Burger</td>\n",
       "    </tr>\n",
       "  </tbody>\n",
       "</table>\n",
       "</div>"
      ],
      "text/plain": [
       "   Rank   Restaurant                                            Content  \\\n",
       "0     1   McDonald's                                                NaN   \n",
       "1     2    Starbucks                                                NaN   \n",
       "2     3  Chick-fil-A  While Popeyes got a lot of the chicken buzz in...   \n",
       "3     4    Taco Bell                                                NaN   \n",
       "4     5  Burger King                                                NaN   \n",
       "\n",
       "   Sales YOY_Sales  Units YOY_Units Headquarters             Segment_Category  \n",
       "0  40412      4.9%  13846     -0.5%          NaN       Quick Service & Burger  \n",
       "1  21380      8.6%  15049      3.0%          NaN  Quick Service & Coffee Cafe  \n",
       "2  11320     13.0%   2470      5.0%          NaN      Quick Service & Chicken  \n",
       "3  11293      9.0%   6766      2.7%          NaN      Quick Service & Mexican  \n",
       "4  10204      2.7%   7346      0.2%          NaN       Quick Service & Burger  "
      ]
     },
     "execution_count": 87,
     "metadata": {},
     "output_type": "execute_result"
    }
   ],
   "source": [
    "df2.head()"
   ]
  },
  {
   "cell_type": "code",
   "execution_count": 88,
   "metadata": {},
   "outputs": [
    {
     "data": {
      "text/html": [
       "<div>\n",
       "<style scoped>\n",
       "    .dataframe tbody tr th:only-of-type {\n",
       "        vertical-align: middle;\n",
       "    }\n",
       "\n",
       "    .dataframe tbody tr th {\n",
       "        vertical-align: top;\n",
       "    }\n",
       "\n",
       "    .dataframe thead th {\n",
       "        text-align: right;\n",
       "    }\n",
       "</style>\n",
       "<table border=\"1\" class=\"dataframe\">\n",
       "  <thead>\n",
       "    <tr style=\"text-align: right;\">\n",
       "      <th></th>\n",
       "      <th>Rank</th>\n",
       "      <th>Sales</th>\n",
       "      <th>Units</th>\n",
       "    </tr>\n",
       "  </thead>\n",
       "  <tbody>\n",
       "    <tr>\n",
       "      <th>count</th>\n",
       "      <td>250.000000</td>\n",
       "      <td>250.00000</td>\n",
       "      <td>250.000000</td>\n",
       "    </tr>\n",
       "    <tr>\n",
       "      <th>mean</th>\n",
       "      <td>125.500000</td>\n",
       "      <td>1242.74000</td>\n",
       "      <td>850.076000</td>\n",
       "    </tr>\n",
       "    <tr>\n",
       "      <th>std</th>\n",
       "      <td>72.312977</td>\n",
       "      <td>3365.22882</td>\n",
       "      <td>2296.151659</td>\n",
       "    </tr>\n",
       "    <tr>\n",
       "      <th>min</th>\n",
       "      <td>1.000000</td>\n",
       "      <td>126.00000</td>\n",
       "      <td>13.000000</td>\n",
       "    </tr>\n",
       "    <tr>\n",
       "      <th>25%</th>\n",
       "      <td>63.250000</td>\n",
       "      <td>181.00000</td>\n",
       "      <td>85.000000</td>\n",
       "    </tr>\n",
       "    <tr>\n",
       "      <th>50%</th>\n",
       "      <td>125.500000</td>\n",
       "      <td>330.00000</td>\n",
       "      <td>207.000000</td>\n",
       "    </tr>\n",
       "    <tr>\n",
       "      <th>75%</th>\n",
       "      <td>187.750000</td>\n",
       "      <td>724.75000</td>\n",
       "      <td>555.250000</td>\n",
       "    </tr>\n",
       "    <tr>\n",
       "      <th>max</th>\n",
       "      <td>250.000000</td>\n",
       "      <td>40412.00000</td>\n",
       "      <td>23801.000000</td>\n",
       "    </tr>\n",
       "  </tbody>\n",
       "</table>\n",
       "</div>"
      ],
      "text/plain": [
       "             Rank        Sales         Units\n",
       "count  250.000000    250.00000    250.000000\n",
       "mean   125.500000   1242.74000    850.076000\n",
       "std     72.312977   3365.22882   2296.151659\n",
       "min      1.000000    126.00000     13.000000\n",
       "25%     63.250000    181.00000     85.000000\n",
       "50%    125.500000    330.00000    207.000000\n",
       "75%    187.750000    724.75000    555.250000\n",
       "max    250.000000  40412.00000  23801.000000"
      ]
     },
     "execution_count": 88,
     "metadata": {},
     "output_type": "execute_result"
    }
   ],
   "source": [
    "df2.describe()"
   ]
  },
  {
   "cell_type": "markdown",
   "metadata": {},
   "source": [
    "# HANDLING NULL VALUES"
   ]
  },
  {
   "cell_type": "code",
   "execution_count": 90,
   "metadata": {},
   "outputs": [
    {
     "data": {
      "text/html": [
       "<div>\n",
       "<style scoped>\n",
       "    .dataframe tbody tr th:only-of-type {\n",
       "        vertical-align: middle;\n",
       "    }\n",
       "\n",
       "    .dataframe tbody tr th {\n",
       "        vertical-align: top;\n",
       "    }\n",
       "\n",
       "    .dataframe thead th {\n",
       "        text-align: right;\n",
       "    }\n",
       "</style>\n",
       "<table border=\"1\" class=\"dataframe\">\n",
       "  <thead>\n",
       "    <tr style=\"text-align: right;\">\n",
       "      <th></th>\n",
       "      <th>Rank</th>\n",
       "      <th>Restaurant</th>\n",
       "      <th>Content</th>\n",
       "      <th>Sales</th>\n",
       "      <th>YOY_Sales</th>\n",
       "      <th>Units</th>\n",
       "      <th>YOY_Units</th>\n",
       "      <th>Headquarters</th>\n",
       "      <th>Segment_Category</th>\n",
       "    </tr>\n",
       "  </thead>\n",
       "  <tbody>\n",
       "    <tr>\n",
       "      <th>0</th>\n",
       "      <td>False</td>\n",
       "      <td>False</td>\n",
       "      <td>True</td>\n",
       "      <td>False</td>\n",
       "      <td>False</td>\n",
       "      <td>False</td>\n",
       "      <td>False</td>\n",
       "      <td>True</td>\n",
       "      <td>False</td>\n",
       "    </tr>\n",
       "    <tr>\n",
       "      <th>1</th>\n",
       "      <td>False</td>\n",
       "      <td>False</td>\n",
       "      <td>True</td>\n",
       "      <td>False</td>\n",
       "      <td>False</td>\n",
       "      <td>False</td>\n",
       "      <td>False</td>\n",
       "      <td>True</td>\n",
       "      <td>False</td>\n",
       "    </tr>\n",
       "    <tr>\n",
       "      <th>2</th>\n",
       "      <td>False</td>\n",
       "      <td>False</td>\n",
       "      <td>False</td>\n",
       "      <td>False</td>\n",
       "      <td>False</td>\n",
       "      <td>False</td>\n",
       "      <td>False</td>\n",
       "      <td>True</td>\n",
       "      <td>False</td>\n",
       "    </tr>\n",
       "    <tr>\n",
       "      <th>3</th>\n",
       "      <td>False</td>\n",
       "      <td>False</td>\n",
       "      <td>True</td>\n",
       "      <td>False</td>\n",
       "      <td>False</td>\n",
       "      <td>False</td>\n",
       "      <td>False</td>\n",
       "      <td>True</td>\n",
       "      <td>False</td>\n",
       "    </tr>\n",
       "    <tr>\n",
       "      <th>4</th>\n",
       "      <td>False</td>\n",
       "      <td>False</td>\n",
       "      <td>True</td>\n",
       "      <td>False</td>\n",
       "      <td>False</td>\n",
       "      <td>False</td>\n",
       "      <td>False</td>\n",
       "      <td>True</td>\n",
       "      <td>False</td>\n",
       "    </tr>\n",
       "    <tr>\n",
       "      <th>...</th>\n",
       "      <td>...</td>\n",
       "      <td>...</td>\n",
       "      <td>...</td>\n",
       "      <td>...</td>\n",
       "      <td>...</td>\n",
       "      <td>...</td>\n",
       "      <td>...</td>\n",
       "      <td>...</td>\n",
       "      <td>...</td>\n",
       "    </tr>\n",
       "    <tr>\n",
       "      <th>245</th>\n",
       "      <td>False</td>\n",
       "      <td>False</td>\n",
       "      <td>True</td>\n",
       "      <td>False</td>\n",
       "      <td>False</td>\n",
       "      <td>False</td>\n",
       "      <td>False</td>\n",
       "      <td>True</td>\n",
       "      <td>False</td>\n",
       "    </tr>\n",
       "    <tr>\n",
       "      <th>246</th>\n",
       "      <td>False</td>\n",
       "      <td>False</td>\n",
       "      <td>True</td>\n",
       "      <td>False</td>\n",
       "      <td>False</td>\n",
       "      <td>False</td>\n",
       "      <td>False</td>\n",
       "      <td>True</td>\n",
       "      <td>False</td>\n",
       "    </tr>\n",
       "    <tr>\n",
       "      <th>247</th>\n",
       "      <td>False</td>\n",
       "      <td>False</td>\n",
       "      <td>True</td>\n",
       "      <td>False</td>\n",
       "      <td>False</td>\n",
       "      <td>False</td>\n",
       "      <td>False</td>\n",
       "      <td>True</td>\n",
       "      <td>False</td>\n",
       "    </tr>\n",
       "    <tr>\n",
       "      <th>248</th>\n",
       "      <td>False</td>\n",
       "      <td>False</td>\n",
       "      <td>True</td>\n",
       "      <td>False</td>\n",
       "      <td>False</td>\n",
       "      <td>False</td>\n",
       "      <td>False</td>\n",
       "      <td>True</td>\n",
       "      <td>False</td>\n",
       "    </tr>\n",
       "    <tr>\n",
       "      <th>249</th>\n",
       "      <td>False</td>\n",
       "      <td>False</td>\n",
       "      <td>True</td>\n",
       "      <td>False</td>\n",
       "      <td>False</td>\n",
       "      <td>False</td>\n",
       "      <td>False</td>\n",
       "      <td>True</td>\n",
       "      <td>False</td>\n",
       "    </tr>\n",
       "  </tbody>\n",
       "</table>\n",
       "<p>250 rows × 9 columns</p>\n",
       "</div>"
      ],
      "text/plain": [
       "      Rank  Restaurant  Content  Sales  YOY_Sales  Units  YOY_Units  \\\n",
       "0    False       False     True  False      False  False      False   \n",
       "1    False       False     True  False      False  False      False   \n",
       "2    False       False    False  False      False  False      False   \n",
       "3    False       False     True  False      False  False      False   \n",
       "4    False       False     True  False      False  False      False   \n",
       "..     ...         ...      ...    ...        ...    ...        ...   \n",
       "245  False       False     True  False      False  False      False   \n",
       "246  False       False     True  False      False  False      False   \n",
       "247  False       False     True  False      False  False      False   \n",
       "248  False       False     True  False      False  False      False   \n",
       "249  False       False     True  False      False  False      False   \n",
       "\n",
       "     Headquarters  Segment_Category  \n",
       "0            True             False  \n",
       "1            True             False  \n",
       "2            True             False  \n",
       "3            True             False  \n",
       "4            True             False  \n",
       "..            ...               ...  \n",
       "245          True             False  \n",
       "246          True             False  \n",
       "247          True             False  \n",
       "248          True             False  \n",
       "249          True             False  \n",
       "\n",
       "[250 rows x 9 columns]"
      ]
     },
     "execution_count": 90,
     "metadata": {},
     "output_type": "execute_result"
    }
   ],
   "source": [
    "df2.isnull()"
   ]
  },
  {
   "cell_type": "code",
   "execution_count": 92,
   "metadata": {},
   "outputs": [
    {
     "data": {
      "text/plain": [
       "Rank                  0\n",
       "Restaurant            0\n",
       "Content             217\n",
       "Sales                 0\n",
       "YOY_Sales             0\n",
       "Units                 0\n",
       "YOY_Units             0\n",
       "Headquarters        198\n",
       "Segment_Category      0\n",
       "dtype: int64"
      ]
     },
     "execution_count": 92,
     "metadata": {},
     "output_type": "execute_result"
    }
   ],
   "source": [
    "df2.isnull().sum()"
   ]
  },
  {
   "cell_type": "code",
   "execution_count": 93,
   "metadata": {},
   "outputs": [
    {
     "data": {
      "text/plain": [
       "415"
      ]
     },
     "execution_count": 93,
     "metadata": {},
     "output_type": "execute_result"
    }
   ],
   "source": [
    "df2.isnull().sum().sum()"
   ]
  },
  {
   "cell_type": "markdown",
   "metadata": {},
   "source": [
    "# DROPPING ROWS WITH NaN VALUES"
   ]
  },
  {
   "cell_type": "code",
   "execution_count": 94,
   "metadata": {},
   "outputs": [
    {
     "data": {
      "text/plain": [
       "(250, 9)"
      ]
     },
     "execution_count": 94,
     "metadata": {},
     "output_type": "execute_result"
    }
   ],
   "source": [
    "df2.shape"
   ]
  },
  {
   "cell_type": "code",
   "execution_count": 96,
   "metadata": {},
   "outputs": [
    {
     "data": {
      "text/html": [
       "<div>\n",
       "<style scoped>\n",
       "    .dataframe tbody tr th:only-of-type {\n",
       "        vertical-align: middle;\n",
       "    }\n",
       "\n",
       "    .dataframe tbody tr th {\n",
       "        vertical-align: top;\n",
       "    }\n",
       "\n",
       "    .dataframe thead th {\n",
       "        text-align: right;\n",
       "    }\n",
       "</style>\n",
       "<table border=\"1\" class=\"dataframe\">\n",
       "  <thead>\n",
       "    <tr style=\"text-align: right;\">\n",
       "      <th></th>\n",
       "      <th>Rank</th>\n",
       "      <th>Restaurant</th>\n",
       "      <th>Content</th>\n",
       "      <th>Sales</th>\n",
       "      <th>YOY_Sales</th>\n",
       "      <th>Units</th>\n",
       "      <th>YOY_Units</th>\n",
       "      <th>Headquarters</th>\n",
       "      <th>Segment_Category</th>\n",
       "    </tr>\n",
       "  </thead>\n",
       "  <tbody>\n",
       "    <tr>\n",
       "      <th>65</th>\n",
       "      <td>66</td>\n",
       "      <td>Tim Hortons</td>\n",
       "      <td>On the other side of that equation is Tim Hort...</td>\n",
       "      <td>714</td>\n",
       "      <td>-3.5%</td>\n",
       "      <td>715</td>\n",
       "      <td>-1.7%</td>\n",
       "      <td>Toronto, ON</td>\n",
       "      <td>Quick Service &amp; Coffee Cafe</td>\n",
       "    </tr>\n",
       "  </tbody>\n",
       "</table>\n",
       "</div>"
      ],
      "text/plain": [
       "    Rank   Restaurant                                            Content  \\\n",
       "65    66  Tim Hortons  On the other side of that equation is Tim Hort...   \n",
       "\n",
       "    Sales YOY_Sales  Units YOY_Units Headquarters             Segment_Category  \n",
       "65    714     -3.5%    715     -1.7%  Toronto, ON  Quick Service & Coffee Cafe  "
      ]
     },
     "execution_count": 96,
     "metadata": {},
     "output_type": "execute_result"
    }
   ],
   "source": [
    "df3=df2.dropna()   # default axis=0 \n",
    "df3"
   ]
  },
  {
   "cell_type": "code",
   "execution_count": 97,
   "metadata": {},
   "outputs": [
    {
     "data": {
      "text/html": [
       "<div>\n",
       "<style scoped>\n",
       "    .dataframe tbody tr th:only-of-type {\n",
       "        vertical-align: middle;\n",
       "    }\n",
       "\n",
       "    .dataframe tbody tr th {\n",
       "        vertical-align: top;\n",
       "    }\n",
       "\n",
       "    .dataframe thead th {\n",
       "        text-align: right;\n",
       "    }\n",
       "</style>\n",
       "<table border=\"1\" class=\"dataframe\">\n",
       "  <thead>\n",
       "    <tr style=\"text-align: right;\">\n",
       "      <th></th>\n",
       "      <th>Rank</th>\n",
       "      <th>Restaurant</th>\n",
       "      <th>Content</th>\n",
       "      <th>Sales</th>\n",
       "      <th>YOY_Sales</th>\n",
       "      <th>Units</th>\n",
       "      <th>YOY_Units</th>\n",
       "      <th>Headquarters</th>\n",
       "      <th>Segment_Category</th>\n",
       "    </tr>\n",
       "  </thead>\n",
       "  <tbody>\n",
       "    <tr>\n",
       "      <th>65</th>\n",
       "      <td>66</td>\n",
       "      <td>Tim Hortons</td>\n",
       "      <td>On the other side of that equation is Tim Hort...</td>\n",
       "      <td>714</td>\n",
       "      <td>-3.5%</td>\n",
       "      <td>715</td>\n",
       "      <td>-1.7%</td>\n",
       "      <td>Toronto, ON</td>\n",
       "      <td>Quick Service &amp; Coffee Cafe</td>\n",
       "    </tr>\n",
       "  </tbody>\n",
       "</table>\n",
       "</div>"
      ],
      "text/plain": [
       "    Rank   Restaurant                                            Content  \\\n",
       "65    66  Tim Hortons  On the other side of that equation is Tim Hort...   \n",
       "\n",
       "    Sales YOY_Sales  Units YOY_Units Headquarters             Segment_Category  \n",
       "65    714     -3.5%    715     -1.7%  Toronto, ON  Quick Service & Coffee Cafe  "
      ]
     },
     "execution_count": 97,
     "metadata": {},
     "output_type": "execute_result"
    }
   ],
   "source": [
    "df3.head()"
   ]
  },
  {
   "cell_type": "code",
   "execution_count": 99,
   "metadata": {},
   "outputs": [
    {
     "data": {
      "text/plain": [
       "(1, 9)"
      ]
     },
     "execution_count": 99,
     "metadata": {},
     "output_type": "execute_result"
    }
   ],
   "source": [
    "df3.shape"
   ]
  },
  {
   "cell_type": "markdown",
   "metadata": {},
   "source": [
    "# DROPPING COLUMNS WITH NaN VALUES"
   ]
  },
  {
   "cell_type": "code",
   "execution_count": 104,
   "metadata": {},
   "outputs": [
    {
     "data": {
      "text/html": [
       "<div>\n",
       "<style scoped>\n",
       "    .dataframe tbody tr th:only-of-type {\n",
       "        vertical-align: middle;\n",
       "    }\n",
       "\n",
       "    .dataframe tbody tr th {\n",
       "        vertical-align: top;\n",
       "    }\n",
       "\n",
       "    .dataframe thead th {\n",
       "        text-align: right;\n",
       "    }\n",
       "</style>\n",
       "<table border=\"1\" class=\"dataframe\">\n",
       "  <thead>\n",
       "    <tr style=\"text-align: right;\">\n",
       "      <th></th>\n",
       "      <th>Rank</th>\n",
       "      <th>Restaurant</th>\n",
       "      <th>Sales</th>\n",
       "      <th>YOY_Sales</th>\n",
       "      <th>Units</th>\n",
       "      <th>YOY_Units</th>\n",
       "      <th>Segment_Category</th>\n",
       "    </tr>\n",
       "  </thead>\n",
       "  <tbody>\n",
       "    <tr>\n",
       "      <th>0</th>\n",
       "      <td>1</td>\n",
       "      <td>McDonald's</td>\n",
       "      <td>40412</td>\n",
       "      <td>4.9%</td>\n",
       "      <td>13846</td>\n",
       "      <td>-0.5%</td>\n",
       "      <td>Quick Service &amp; Burger</td>\n",
       "    </tr>\n",
       "    <tr>\n",
       "      <th>1</th>\n",
       "      <td>2</td>\n",
       "      <td>Starbucks</td>\n",
       "      <td>21380</td>\n",
       "      <td>8.6%</td>\n",
       "      <td>15049</td>\n",
       "      <td>3.0%</td>\n",
       "      <td>Quick Service &amp; Coffee Cafe</td>\n",
       "    </tr>\n",
       "    <tr>\n",
       "      <th>2</th>\n",
       "      <td>3</td>\n",
       "      <td>Chick-fil-A</td>\n",
       "      <td>11320</td>\n",
       "      <td>13.0%</td>\n",
       "      <td>2470</td>\n",
       "      <td>5.0%</td>\n",
       "      <td>Quick Service &amp; Chicken</td>\n",
       "    </tr>\n",
       "    <tr>\n",
       "      <th>3</th>\n",
       "      <td>4</td>\n",
       "      <td>Taco Bell</td>\n",
       "      <td>11293</td>\n",
       "      <td>9.0%</td>\n",
       "      <td>6766</td>\n",
       "      <td>2.7%</td>\n",
       "      <td>Quick Service &amp; Mexican</td>\n",
       "    </tr>\n",
       "    <tr>\n",
       "      <th>4</th>\n",
       "      <td>5</td>\n",
       "      <td>Burger King</td>\n",
       "      <td>10204</td>\n",
       "      <td>2.7%</td>\n",
       "      <td>7346</td>\n",
       "      <td>0.2%</td>\n",
       "      <td>Quick Service &amp; Burger</td>\n",
       "    </tr>\n",
       "    <tr>\n",
       "      <th>...</th>\n",
       "      <td>...</td>\n",
       "      <td>...</td>\n",
       "      <td>...</td>\n",
       "      <td>...</td>\n",
       "      <td>...</td>\n",
       "      <td>...</td>\n",
       "      <td>...</td>\n",
       "    </tr>\n",
       "    <tr>\n",
       "      <th>245</th>\n",
       "      <td>246</td>\n",
       "      <td>Rainforest Cafe</td>\n",
       "      <td>129</td>\n",
       "      <td>-10.4%</td>\n",
       "      <td>18</td>\n",
       "      <td>-5.3%</td>\n",
       "      <td>Varied Menu</td>\n",
       "    </tr>\n",
       "    <tr>\n",
       "      <th>246</th>\n",
       "      <td>247</td>\n",
       "      <td>PDQ</td>\n",
       "      <td>127</td>\n",
       "      <td>-5.5%</td>\n",
       "      <td>56</td>\n",
       "      <td>-11.1%</td>\n",
       "      <td>Chicken</td>\n",
       "    </tr>\n",
       "    <tr>\n",
       "      <th>247</th>\n",
       "      <td>248</td>\n",
       "      <td>Lupe Tortilla</td>\n",
       "      <td>127</td>\n",
       "      <td>12.1%</td>\n",
       "      <td>25</td>\n",
       "      <td>8.7%</td>\n",
       "      <td>Mexican</td>\n",
       "    </tr>\n",
       "    <tr>\n",
       "      <th>248</th>\n",
       "      <td>249</td>\n",
       "      <td>Cook-Out Restaurant</td>\n",
       "      <td>126</td>\n",
       "      <td>10.1%</td>\n",
       "      <td>270</td>\n",
       "      <td>7.1%</td>\n",
       "      <td>Burger</td>\n",
       "    </tr>\n",
       "    <tr>\n",
       "      <th>249</th>\n",
       "      <td>250</td>\n",
       "      <td>Jollibee</td>\n",
       "      <td>126</td>\n",
       "      <td>15.2%</td>\n",
       "      <td>40</td>\n",
       "      <td>11.1%</td>\n",
       "      <td>Chicken</td>\n",
       "    </tr>\n",
       "  </tbody>\n",
       "</table>\n",
       "<p>250 rows × 7 columns</p>\n",
       "</div>"
      ],
      "text/plain": [
       "     Rank           Restaurant  Sales YOY_Sales  Units YOY_Units  \\\n",
       "0       1           McDonald's  40412      4.9%  13846     -0.5%   \n",
       "1       2            Starbucks  21380      8.6%  15049      3.0%   \n",
       "2       3          Chick-fil-A  11320     13.0%   2470      5.0%   \n",
       "3       4            Taco Bell  11293      9.0%   6766      2.7%   \n",
       "4       5          Burger King  10204      2.7%   7346      0.2%   \n",
       "..    ...                  ...    ...       ...    ...       ...   \n",
       "245   246      Rainforest Cafe    129    -10.4%     18     -5.3%   \n",
       "246   247                  PDQ    127     -5.5%     56    -11.1%   \n",
       "247   248        Lupe Tortilla    127     12.1%     25      8.7%   \n",
       "248   249  Cook-Out Restaurant    126     10.1%    270      7.1%   \n",
       "249   250             Jollibee    126     15.2%     40     11.1%   \n",
       "\n",
       "                Segment_Category  \n",
       "0         Quick Service & Burger  \n",
       "1    Quick Service & Coffee Cafe  \n",
       "2        Quick Service & Chicken  \n",
       "3        Quick Service & Mexican  \n",
       "4         Quick Service & Burger  \n",
       "..                           ...  \n",
       "245                  Varied Menu  \n",
       "246                      Chicken  \n",
       "247                      Mexican  \n",
       "248                       Burger  \n",
       "249                      Chicken  \n",
       "\n",
       "[250 rows x 7 columns]"
      ]
     },
     "execution_count": 104,
     "metadata": {},
     "output_type": "execute_result"
    }
   ],
   "source": [
    "df4=df2.dropna(axis=1)\n",
    "df4"
   ]
  },
  {
   "cell_type": "code",
   "execution_count": 105,
   "metadata": {},
   "outputs": [
    {
     "data": {
      "text/plain": [
       "(250, 7)"
      ]
     },
     "execution_count": 105,
     "metadata": {},
     "output_type": "execute_result"
    }
   ],
   "source": [
    "df4.shape"
   ]
  },
  {
   "cell_type": "code",
   "execution_count": 107,
   "metadata": {},
   "outputs": [
    {
     "name": "stdout",
     "output_type": "stream",
     "text": [
      "<class 'pandas.core.frame.DataFrame'>\n",
      "RangeIndex: 250 entries, 0 to 249\n",
      "Data columns (total 7 columns):\n",
      " #   Column            Non-Null Count  Dtype \n",
      "---  ------            --------------  ----- \n",
      " 0   Rank              250 non-null    int64 \n",
      " 1   Restaurant        250 non-null    object\n",
      " 2   Sales             250 non-null    int64 \n",
      " 3   YOY_Sales         250 non-null    object\n",
      " 4   Units             250 non-null    int64 \n",
      " 5   YOY_Units         250 non-null    object\n",
      " 6   Segment_Category  250 non-null    object\n",
      "dtypes: int64(3), object(4)\n",
      "memory usage: 13.8+ KB\n"
     ]
    }
   ],
   "source": [
    "df4.info()"
   ]
  },
  {
   "cell_type": "code",
   "execution_count": 112,
   "metadata": {},
   "outputs": [
    {
     "data": {
      "text/html": [
       "<div>\n",
       "<style scoped>\n",
       "    .dataframe tbody tr th:only-of-type {\n",
       "        vertical-align: middle;\n",
       "    }\n",
       "\n",
       "    .dataframe tbody tr th {\n",
       "        vertical-align: top;\n",
       "    }\n",
       "\n",
       "    .dataframe thead th {\n",
       "        text-align: right;\n",
       "    }\n",
       "</style>\n",
       "<table border=\"1\" class=\"dataframe\">\n",
       "  <thead>\n",
       "    <tr style=\"text-align: right;\">\n",
       "      <th></th>\n",
       "      <th>Rank</th>\n",
       "      <th>Restaurant</th>\n",
       "      <th>Content</th>\n",
       "      <th>Sales</th>\n",
       "      <th>YOY_Sales</th>\n",
       "      <th>Units</th>\n",
       "      <th>YOY_Units</th>\n",
       "      <th>Headquarters</th>\n",
       "      <th>Segment_Category</th>\n",
       "    </tr>\n",
       "  </thead>\n",
       "  <tbody>\n",
       "    <tr>\n",
       "      <th>65</th>\n",
       "      <td>66</td>\n",
       "      <td>Tim Hortons</td>\n",
       "      <td>On the other side of that equation is Tim Hort...</td>\n",
       "      <td>714</td>\n",
       "      <td>-3.5%</td>\n",
       "      <td>715</td>\n",
       "      <td>-1.7%</td>\n",
       "      <td>Toronto, ON</td>\n",
       "      <td>Quick Service &amp; Coffee Cafe</td>\n",
       "    </tr>\n",
       "  </tbody>\n",
       "</table>\n",
       "</div>"
      ],
      "text/plain": [
       "    Rank   Restaurant                                            Content  \\\n",
       "65    66  Tim Hortons  On the other side of that equation is Tim Hort...   \n",
       "\n",
       "    Sales YOY_Sales  Units YOY_Units Headquarters             Segment_Category  \n",
       "65    714     -3.5%    715     -1.7%  Toronto, ON  Quick Service & Coffee Cafe  "
      ]
     },
     "execution_count": 112,
     "metadata": {},
     "output_type": "execute_result"
    }
   ],
   "source": [
    "df2.dropna(how='any')  #if any row value is null then remove that row"
   ]
  },
  {
   "cell_type": "code",
   "execution_count": 115,
   "metadata": {},
   "outputs": [],
   "source": [
    "df5=df2.dropna(how='all')   # if all row values is null then remove that row"
   ]
  },
  {
   "cell_type": "code",
   "execution_count": 116,
   "metadata": {},
   "outputs": [
    {
     "data": {
      "text/html": [
       "<div>\n",
       "<style scoped>\n",
       "    .dataframe tbody tr th:only-of-type {\n",
       "        vertical-align: middle;\n",
       "    }\n",
       "\n",
       "    .dataframe tbody tr th {\n",
       "        vertical-align: top;\n",
       "    }\n",
       "\n",
       "    .dataframe thead th {\n",
       "        text-align: right;\n",
       "    }\n",
       "</style>\n",
       "<table border=\"1\" class=\"dataframe\">\n",
       "  <thead>\n",
       "    <tr style=\"text-align: right;\">\n",
       "      <th></th>\n",
       "      <th>Rank</th>\n",
       "      <th>Restaurant</th>\n",
       "      <th>Content</th>\n",
       "      <th>Sales</th>\n",
       "      <th>YOY_Sales</th>\n",
       "      <th>Units</th>\n",
       "      <th>YOY_Units</th>\n",
       "      <th>Headquarters</th>\n",
       "      <th>Segment_Category</th>\n",
       "    </tr>\n",
       "  </thead>\n",
       "  <tbody>\n",
       "    <tr>\n",
       "      <th>0</th>\n",
       "      <td>1</td>\n",
       "      <td>McDonald's</td>\n",
       "      <td>NaN</td>\n",
       "      <td>40412</td>\n",
       "      <td>4.9%</td>\n",
       "      <td>13846</td>\n",
       "      <td>-0.5%</td>\n",
       "      <td>NaN</td>\n",
       "      <td>Quick Service &amp; Burger</td>\n",
       "    </tr>\n",
       "    <tr>\n",
       "      <th>1</th>\n",
       "      <td>2</td>\n",
       "      <td>Starbucks</td>\n",
       "      <td>NaN</td>\n",
       "      <td>21380</td>\n",
       "      <td>8.6%</td>\n",
       "      <td>15049</td>\n",
       "      <td>3.0%</td>\n",
       "      <td>NaN</td>\n",
       "      <td>Quick Service &amp; Coffee Cafe</td>\n",
       "    </tr>\n",
       "    <tr>\n",
       "      <th>2</th>\n",
       "      <td>3</td>\n",
       "      <td>Chick-fil-A</td>\n",
       "      <td>While Popeyes got a lot of the chicken buzz in...</td>\n",
       "      <td>11320</td>\n",
       "      <td>13.0%</td>\n",
       "      <td>2470</td>\n",
       "      <td>5.0%</td>\n",
       "      <td>NaN</td>\n",
       "      <td>Quick Service &amp; Chicken</td>\n",
       "    </tr>\n",
       "    <tr>\n",
       "      <th>3</th>\n",
       "      <td>4</td>\n",
       "      <td>Taco Bell</td>\n",
       "      <td>NaN</td>\n",
       "      <td>11293</td>\n",
       "      <td>9.0%</td>\n",
       "      <td>6766</td>\n",
       "      <td>2.7%</td>\n",
       "      <td>NaN</td>\n",
       "      <td>Quick Service &amp; Mexican</td>\n",
       "    </tr>\n",
       "    <tr>\n",
       "      <th>4</th>\n",
       "      <td>5</td>\n",
       "      <td>Burger King</td>\n",
       "      <td>NaN</td>\n",
       "      <td>10204</td>\n",
       "      <td>2.7%</td>\n",
       "      <td>7346</td>\n",
       "      <td>0.2%</td>\n",
       "      <td>NaN</td>\n",
       "      <td>Quick Service &amp; Burger</td>\n",
       "    </tr>\n",
       "    <tr>\n",
       "      <th>...</th>\n",
       "      <td>...</td>\n",
       "      <td>...</td>\n",
       "      <td>...</td>\n",
       "      <td>...</td>\n",
       "      <td>...</td>\n",
       "      <td>...</td>\n",
       "      <td>...</td>\n",
       "      <td>...</td>\n",
       "      <td>...</td>\n",
       "    </tr>\n",
       "    <tr>\n",
       "      <th>245</th>\n",
       "      <td>246</td>\n",
       "      <td>Rainforest Cafe</td>\n",
       "      <td>NaN</td>\n",
       "      <td>129</td>\n",
       "      <td>-10.4%</td>\n",
       "      <td>18</td>\n",
       "      <td>-5.3%</td>\n",
       "      <td>NaN</td>\n",
       "      <td>Varied Menu</td>\n",
       "    </tr>\n",
       "    <tr>\n",
       "      <th>246</th>\n",
       "      <td>247</td>\n",
       "      <td>PDQ</td>\n",
       "      <td>NaN</td>\n",
       "      <td>127</td>\n",
       "      <td>-5.5%</td>\n",
       "      <td>56</td>\n",
       "      <td>-11.1%</td>\n",
       "      <td>NaN</td>\n",
       "      <td>Chicken</td>\n",
       "    </tr>\n",
       "    <tr>\n",
       "      <th>247</th>\n",
       "      <td>248</td>\n",
       "      <td>Lupe Tortilla</td>\n",
       "      <td>NaN</td>\n",
       "      <td>127</td>\n",
       "      <td>12.1%</td>\n",
       "      <td>25</td>\n",
       "      <td>8.7%</td>\n",
       "      <td>NaN</td>\n",
       "      <td>Mexican</td>\n",
       "    </tr>\n",
       "    <tr>\n",
       "      <th>248</th>\n",
       "      <td>249</td>\n",
       "      <td>Cook-Out Restaurant</td>\n",
       "      <td>NaN</td>\n",
       "      <td>126</td>\n",
       "      <td>10.1%</td>\n",
       "      <td>270</td>\n",
       "      <td>7.1%</td>\n",
       "      <td>NaN</td>\n",
       "      <td>Burger</td>\n",
       "    </tr>\n",
       "    <tr>\n",
       "      <th>249</th>\n",
       "      <td>250</td>\n",
       "      <td>Jollibee</td>\n",
       "      <td>NaN</td>\n",
       "      <td>126</td>\n",
       "      <td>15.2%</td>\n",
       "      <td>40</td>\n",
       "      <td>11.1%</td>\n",
       "      <td>NaN</td>\n",
       "      <td>Chicken</td>\n",
       "    </tr>\n",
       "  </tbody>\n",
       "</table>\n",
       "<p>250 rows × 9 columns</p>\n",
       "</div>"
      ],
      "text/plain": [
       "     Rank           Restaurant  \\\n",
       "0       1           McDonald's   \n",
       "1       2            Starbucks   \n",
       "2       3          Chick-fil-A   \n",
       "3       4            Taco Bell   \n",
       "4       5          Burger King   \n",
       "..    ...                  ...   \n",
       "245   246      Rainforest Cafe   \n",
       "246   247                  PDQ   \n",
       "247   248        Lupe Tortilla   \n",
       "248   249  Cook-Out Restaurant   \n",
       "249   250             Jollibee   \n",
       "\n",
       "                                               Content  Sales YOY_Sales  \\\n",
       "0                                                  NaN  40412      4.9%   \n",
       "1                                                  NaN  21380      8.6%   \n",
       "2    While Popeyes got a lot of the chicken buzz in...  11320     13.0%   \n",
       "3                                                  NaN  11293      9.0%   \n",
       "4                                                  NaN  10204      2.7%   \n",
       "..                                                 ...    ...       ...   \n",
       "245                                                NaN    129    -10.4%   \n",
       "246                                                NaN    127     -5.5%   \n",
       "247                                                NaN    127     12.1%   \n",
       "248                                                NaN    126     10.1%   \n",
       "249                                                NaN    126     15.2%   \n",
       "\n",
       "     Units YOY_Units Headquarters             Segment_Category  \n",
       "0    13846     -0.5%          NaN       Quick Service & Burger  \n",
       "1    15049      3.0%          NaN  Quick Service & Coffee Cafe  \n",
       "2     2470      5.0%          NaN      Quick Service & Chicken  \n",
       "3     6766      2.7%          NaN      Quick Service & Mexican  \n",
       "4     7346      0.2%          NaN       Quick Service & Burger  \n",
       "..     ...       ...          ...                          ...  \n",
       "245     18     -5.3%          NaN                  Varied Menu  \n",
       "246     56    -11.1%          NaN                      Chicken  \n",
       "247     25      8.7%          NaN                      Mexican  \n",
       "248    270      7.1%          NaN                       Burger  \n",
       "249     40     11.1%          NaN                      Chicken  \n",
       "\n",
       "[250 rows x 9 columns]"
      ]
     },
     "execution_count": 116,
     "metadata": {},
     "output_type": "execute_result"
    }
   ],
   "source": [
    "df5"
   ]
  },
  {
   "cell_type": "code",
   "execution_count": 117,
   "metadata": {},
   "outputs": [
    {
     "name": "stdout",
     "output_type": "stream",
     "text": [
      "<class 'pandas.core.frame.DataFrame'>\n",
      "RangeIndex: 250 entries, 0 to 249\n",
      "Data columns (total 9 columns):\n",
      " #   Column            Non-Null Count  Dtype \n",
      "---  ------            --------------  ----- \n",
      " 0   Rank              250 non-null    int64 \n",
      " 1   Restaurant        250 non-null    object\n",
      " 2   Content           33 non-null     object\n",
      " 3   Sales             250 non-null    int64 \n",
      " 4   YOY_Sales         250 non-null    object\n",
      " 5   Units             250 non-null    int64 \n",
      " 6   YOY_Units         250 non-null    object\n",
      " 7   Headquarters      52 non-null     object\n",
      " 8   Segment_Category  250 non-null    object\n",
      "dtypes: int64(3), object(6)\n",
      "memory usage: 17.7+ KB\n"
     ]
    }
   ],
   "source": [
    "df5.info()"
   ]
  },
  {
   "cell_type": "code",
   "execution_count": 118,
   "metadata": {},
   "outputs": [],
   "source": [
    "df2.dropna(inplace=True)\n"
   ]
  },
  {
   "cell_type": "code",
   "execution_count": 120,
   "metadata": {},
   "outputs": [
    {
     "data": {
      "text/plain": [
       "(1, 9)"
      ]
     },
     "execution_count": 120,
     "metadata": {},
     "output_type": "execute_result"
    }
   ],
   "source": [
    "df2.shape"
   ]
  }
 ],
 "metadata": {
  "kernelspec": {
   "display_name": "myenv",
   "language": "python",
   "name": "python3"
  },
  "language_info": {
   "codemirror_mode": {
    "name": "ipython",
    "version": 3
   },
   "file_extension": ".py",
   "mimetype": "text/x-python",
   "name": "python",
   "nbconvert_exporter": "python",
   "pygments_lexer": "ipython3",
   "version": "3.11.7"
  }
 },
 "nbformat": 4,
 "nbformat_minor": 2
}
