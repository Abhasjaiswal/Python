{
 "cells": [
  {
   "cell_type": "code",
   "execution_count": 6,
   "metadata": {},
   "outputs": [],
   "source": [
    "from time import sleep  # Allows the program to pause for a specified amount of time\n",
    "import pandas as pd  # Provides data manipulation and analysis tools\n",
    "from selenium import webdriver  # Allows automated web browsing\n",
    "from bs4 import BeautifulSoup  # Parses HTML and XML documents\n",
    "from selenium.webdriver.common.by import By  # Provides a way to locate elements on a webpage\n",
    "from selenium.webdriver.support.ui import WebDriverWait  # Allows the program to wait for an element to load before continuing\n",
    "from selenium.webdriver.support import expected_conditions as EC  # Allows the program to specify expected conditions for an element to load\n",
    "from datetime import date  # Provides tools for working with dates\n",
    "from unidecode import unidecode  # Allows the program to remove accents and other diacritical marks from characters\n",
    "import random  # Provides tools for generating random numbers and sequences\n",
    "import datetime  # Provides tools for working with dates and times\n",
    "import requests\n"
   ]
  },
  {
   "cell_type": "code",
   "execution_count": 7,
   "metadata": {},
   "outputs": [
    {
     "name": "stdout",
     "output_type": "stream",
     "text": [
      "Failed to fetch data from https://www.decolar.com/shop/flights/results/roundtrip/GRU/CDG/2022-08-01/2022-08-15/1/0/0/NA/NA/NA/NA/NA?from=SB&di=1-0&reSearch=true. Status code: 403\n",
      "None\n"
     ]
    }
   ],
   "source": [
    "def scrape_decolar_data(from_location, to_location, departure_date, arrival_date, adult_qty):\n",
    "    # Initialize search day, search ID, and company name\n",
    "    search_day = date.today()\n",
    "    search_id = str(search_day) + from_location + to_location + departure_date + arrival_date\n",
    "    company = 'Decolar'\n",
    "\n",
    "    # Set up headers to mimic a browser request\n",
    "    headers = {\n",
    "        'User-Agent': 'Mozilla/5.0 (Windows NT 10.0; Win64; x64) AppleWebKit/537.36 (KHTML, like Gecko) Chrome/91.0.4472.124 Safari/537.36'\n",
    "    }\n",
    "\n",
    "    # Set up the search URL\n",
    "    search_url = f'https://www.decolar.com/shop/flights/results/roundtrip/{from_location}/{to_location}/{departure_date}/{arrival_date}/1/0/0/NA/NA/NA/NA/NA?from=SB&di={adult_qty}-0&reSearch=true'\n",
    "\n",
    "    # Fetch the HTML content of the page\n",
    "    response = requests.get(search_url, headers=headers)\n",
    "\n",
    "    if response.status_code == 200:\n",
    "        soup = BeautifulSoup(response.text, 'html.parser')\n",
    "        \n",
    "        # Extract flight containers\n",
    "        flight_containers = soup.find_all('div', class_='cluster-container COMMON')\n",
    "\n",
    "        flight_list = []\n",
    "\n",
    "        for elementSoup in flight_containers:\n",
    "            # Dictionary to store the flight card data\n",
    "            flight_data = {}\n",
    "\n",
    "            # SearchID, SearchDay, and searchUrl\n",
    "            flight_data['searchID'] = search_id\n",
    "            flight_data['searchDay'] = search_day\n",
    "            flight_data['searchUrl'] = search_url\n",
    "            flight_data['departureDate'] = departure_date\n",
    "            flight_data['arrivalDate'] = arrival_date\n",
    "            flight_data['adultQty'] = adult_qty\n",
    "            flight_data['company'] = company\n",
    "\n",
    "            # Origin Airport and Destiny Airport\n",
    "            flight_data['originAirport'] = elementSoup.find('span', class_='route-location route-departure-location').text.strip().split(' ', 1)[0]\n",
    "            flight_data['destinyAirport'] = elementSoup.find('span', class_='route-location route-arrival-location').text.strip().split(' ', 1)[0]\n",
    "\n",
    "            # Value Tarif and Taxes\n",
    "            flight_data['tarif'] = 0\n",
    "            flight_data['taxes'] = 0\n",
    "\n",
    "            # Currency and Price\n",
    "            flight_data['currency'] = elementSoup.find('span', class_='currency price-mask -eva-3-mr-xsm').text\n",
    "            flight_data['value'] = elementSoup.find('span', class_='amount price-amount').text.replace('.', '').strip()\n",
    "\n",
    "            # CIA and CIA_abv\n",
    "            airline_img_container = elementSoup.find('span', class_='container-img-airlines')\n",
    "            list_cia_flight_container = []  # List to store the companies name, because some of them have more than 1\n",
    "            list_cia_abv_flight_container = []  # List to store the abbreviated companies name, because some of them have more than 1\n",
    "            for img in airline_img_container.find_all('img'):\n",
    "                list_cia_flight_container.append(unidecode(img['alt'].strip()))\n",
    "                list_cia_abv_flight_container.append(unidecode(img['alt'].strip()[:4]))\n",
    "            flight_data['cia'] = list_cia_flight_container\n",
    "            flight_data['cia_abv'] = list_cia_abv_flight_container\n",
    "\n",
    "            flight_list.append(flight_data)\n",
    "\n",
    "        dataTypeDict = {\n",
    "            \"searchID\": 'object', 'searchDay': 'datetime64[ns]', \"originAirport\": 'object',\n",
    "            \"destinyAirport\": 'object',\n",
    "            \"searchUrl\": 'object', \"departureDate\": 'datetime64[ns]', \"arrivalDate\": 'datetime64[ns]',\n",
    "            \"adultQty\": 'int64',\n",
    "            \"company\": 'object', \"cia\": 'object', 'cia_abv': 'object', \"currency\": 'object', \"tarif\": 'float32',\n",
    "            \"taxes\": 'float32',\n",
    "            \"value\": 'float32'}\n",
    "\n",
    "        # Convert the list of dictionaries to a DataFrame\n",
    "        df = pd.DataFrame(flight_list)\n",
    "\n",
    "        return df\n",
    "\n",
    "    else:\n",
    "        print(f\"Failed to fetch data from {search_url}. Status code: {response.status_code}\")\n",
    "        return None\n",
    "\n",
    "# Example usage\n",
    "from_location = 'GRU'\n",
    "to_location = 'CDG'\n",
    "departure_date = '2022-08-01'\n",
    "arrival_date = '2022-08-15'\n",
    "adult_qty = 1\n",
    "\n",
    "result_df = scrape_decolar_data(from_location, to_location, departure_date, arrival_date, adult_qty)\n",
    "print(result_df)\n"
   ]
  },
  {
   "cell_type": "code",
   "execution_count": 8,
   "metadata": {},
   "outputs": [
    {
     "name": "stdout",
     "output_type": "stream",
     "text": [
      "Failed to fetch data from https://www.decolar.com/shop/flights/results/roundtrip/GRU/JFK/2023-08-01/2023-08-10/1/0/0/NA/NA/NA/NA/NA?from=SB&di=1-0&reSearch=true. Status code: 403\n"
     ]
    },
    {
     "ename": "AttributeError",
     "evalue": "'NoneType' object has no attribute 'head'",
     "output_type": "error",
     "traceback": [
      "\u001b[0;31m---------------------------------------------------------------------------\u001b[0m",
      "\u001b[0;31mAttributeError\u001b[0m                            Traceback (most recent call last)",
      "Cell \u001b[0;32mIn[8], line 8\u001b[0m\n\u001b[1;32m      5\u001b[0m adult_qty \u001b[38;5;241m=\u001b[39m \u001b[38;5;124m'\u001b[39m\u001b[38;5;124m1\u001b[39m\u001b[38;5;124m'\u001b[39m\n\u001b[1;32m      7\u001b[0m decolar_df \u001b[38;5;241m=\u001b[39m scrape_decolar_data(from_location, to_location, departure_date, arrival_date, adult_qty)\n\u001b[0;32m----> 8\u001b[0m \u001b[43mdecolar_df\u001b[49m\u001b[38;5;241;43m.\u001b[39;49m\u001b[43mhead\u001b[49m()\n",
      "\u001b[0;31mAttributeError\u001b[0m: 'NoneType' object has no attribute 'head'"
     ]
    }
   ],
   "source": [
    "from_location = 'GRU'\n",
    "to_location = 'JFK'\n",
    "departure_date = '2023-08-01'\n",
    "arrival_date = '2023-08-10'\n",
    "adult_qty = '1'\n",
    "\n",
    "decolar_df = scrape_decolar_data(from_location, to_location, departure_date, arrival_date, adult_qty)\n",
    "decolar_df.head()"
   ]
  }
 ],
 "metadata": {
  "kernelspec": {
   "display_name": "myenv",
   "language": "python",
   "name": "python3"
  },
  "language_info": {
   "codemirror_mode": {
    "name": "ipython",
    "version": 3
   },
   "file_extension": ".py",
   "mimetype": "text/x-python",
   "name": "python",
   "nbconvert_exporter": "python",
   "pygments_lexer": "ipython3",
   "version": "3.11.7"
  }
 },
 "nbformat": 4,
 "nbformat_minor": 2
}
